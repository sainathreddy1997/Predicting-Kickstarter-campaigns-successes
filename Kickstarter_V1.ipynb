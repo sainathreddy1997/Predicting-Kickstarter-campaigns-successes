{
 "cells": [
  {
   "cell_type": "markdown",
   "metadata": {
    "id": "Kbj2jrrOArRg"
   },
   "source": [
    "\n",
    "## <center>Aarushi Kalaimani, Ananta Ramesh, Laxmi Sindhu Samudrala, Sainath Reddy Vuppaluru\n",
    "## <center>DATA 245\n",
    "## <center> December 14, 2020\n",
    "## <center> Group 7 - Report\n"
   ]
  },
  {
   "cell_type": "markdown",
   "metadata": {
    "id": "d2T53HJNXU_7"
   },
   "source": [
    "### **What is the problem that we are trying to solve?**\n",
    "\n",
    "### *Motivation for the project*\n",
    "\n",
    "Kickstarter is an American corporation that runs a global crowdfunding platform. Its mission is to help creators bring their projects to life by connecting them with interested backers. The model used by Kickstarter is similar to the patronage that kings and other noblemen offered artists back in the olden days.\n",
    "\n",
    "The way Kickstarter works is a creator creates a campaign by giving it a title, a description, a goal amount, and a deadline date. If they are able to get enough backers to meet their goal amount by their deadline, their campaign is a success and they receive their funding. If they are unable to meet their goal, the campaign is considered a failure and they receive no money.\n",
    "\n",
    "With this sort of business model in place, it is very lucrative for campaign creators to get insight on whether their venture will succeed or fail before the deadline date. This will allow them to maximize their chances of succeeding by ramping up on publicity and offering freebies and other such crowdpleasers. This is the motivation for our project - determining what features affect a campaign's success more than others, and ultimately using that information to provide feedback to campaign creators at the start of their launch.\n",
    "\n",
    "When you download Kickstarter campaigns' data, there are several pieces of information you obtain - the category of the campaign, the name and description of the campaign (created by its creator), the country of origin of the campaign, the dates of creation, launch, and end of the campaign respectively, the goal amount of the campaign, among various others.\n",
    "\n",
    "Our goal is to use only the information that is available at the start of the campaign, i.e. the information provided by the artist, to predict success/failure of the campaign."
   ]
  },
  {
   "cell_type": "markdown",
   "metadata": {
    "id": "LylXzX5cbEzy"
   },
   "source": [
    "### **How to approach this problem**\n",
    "\n",
    "We are approaching this problem like a supervised machine learning problem. We have various descriptive features that we will use to build our model. Some of the categorical features we are planning to use include the country of origin of the campaign, the category of the campaign, etc. Some of the numerical features we are planning to use include the goal amount of the campaign. We are also planning to make use of the launch and deadline dates of the campaign, and the name and description of the campaign. \n",
    "\n",
    "We need to determine which among these features are most correlated with our target variable (the state of the campaign - 1 for successful and 0 for failed). We will then convert those features into a usable format, either by log transforming them or by encoding them numerically, and create a model which will use those features to predict the value of the state variable.\n",
    "\n",
    "The benchmark we are using is the accuracy of a model that simply predicts the majority class for all the rows - this is the accuracy we aim to beat."
   ]
  },
  {
   "cell_type": "markdown",
   "metadata": {
    "id": "VA4BSXSMnjIv"
   },
   "source": [
    "### **Data Source**\n",
    "\n",
    "The dataset is obtained from the following website - https://webrobots.io/kickstarter-datasets/ in csv format."
   ]
  },
  {
   "cell_type": "markdown",
   "metadata": {
    "id": "KqqoJ7DJBHKz"
   },
   "source": [
    "### **Data Characteristics and Preprocessing**"
   ]
  },
  {
   "cell_type": "markdown",
   "metadata": {
    "id": "ikSddxXiphc3"
   },
   "source": [
    "The Kickstarter dataset is originally composed of 38 attributes, which describe each Kickstarter project in terms of factors such as how the project is categorized, the status of the project (e.g. successful, failed, live, or canceled), the targeted goal for funding, the project launch date, the project deadline, whether the project is highlighted on Kickstarter’s website, etc. The attributes are of various data types, including datetime, float, and string (or categorical) objects.\n",
    " \n",
    "The web scraping tool linked above looks up Kickstarter projects from 2009 to 2020 and generates sixty csv files which are then loaded into a pandas dataframe. The dataframe originally consists of 219,688 values; however, a look-up for duplicated instances by project ID leads us to drop 27,669 values from the dataframe. Furthermore, a search for null values across leads us to drop the following attributes from further analysis, since more than 30% values are missing: friends, is_backing, is_starred, and permissions. We also drop a subset of columns that we believe do not provide supporting information to improve classification of projects by status:  creator, currency, currency_symbol, currency_trailing_code, fx_rate, disable_communication, id, location_json, photo, profile, slug, source_url, and usd_type.\n",
    "\n",
    "Given that Kickstarter is supported in multiple countries across the world, quantities for crowdfunding goals are provided in country-specific currencies, as well as the currencies as USD (U.S. dollar) conversions. To simplify analysis, we choose to only consider the U.S. dollar-based conversions of all project monetary data. Also, we observe that the datetime attributes in this dataset are provided as Unix time stamps, hence data processing includes the conversion of all datetime variables to standard timestamps.\n",
    "\n",
    "We observe that the ‘category’ attribute follows a JSON format and contains additional details of value to our analysis, including the project’s main category (e.g. Film and Video), and sub-category (e.g. Drama).  In addition to extracting the main and sub-category names from the ‘category’ attribute, data cleaning concludes with the exclusion of projects that are of ‘live’ or ‘cancelled’ status, narrowing our analysis to only projects that are classified as ‘successful’ or ‘failed’.\n",
    "\n",
    "Exploration of the cleaned dataset reveals that 55% of the projects are successful, 40% are failed, and 5% are cancelled. Analyzing the datetime attributes reveals that most projects last for 30-40 days, covering the project launch date to the project deadline. We also observe that most projects are launched in 2015, with projects launched in 2016-2020 far outnumbering projects from 2009-2014. This  speaks to Kickstarter’s increased popularity after a few years following the company’s launch. Further data exploration highlights are provided as commentary throughout the source code.\n"
   ]
  },
  {
   "cell_type": "markdown",
   "metadata": {
    "id": "I_VFt8QrZ0Tr"
   },
   "source": [
    "## Importing Libraries"
   ]
  },
  {
   "cell_type": "code",
   "execution_count": 1,
   "metadata": {
    "id": "-RsqfiGdSm3n"
   },
   "outputs": [],
   "source": [
    "import glob\n",
    "import os\n",
    "\n",
    "import numpy as np\n",
    "import pandas as pd\n",
    "from matplotlib import pyplot as plt\n",
    "import seaborn as sns\n",
    "from datetime import datetime\n",
    "import json\n",
    "from nltk.corpus import stopwords\n",
    "from gensim.parsing.preprocessing import preprocess_string, strip_tags, strip_punctuation, strip_multiple_whitespaces, strip_numeric, remove_stopwords, strip_short"
   ]
  },
  {
   "cell_type": "code",
   "execution_count": 2,
   "metadata": {
    "colab": {
     "base_uri": "https://localhost:8080/"
    },
    "id": "6-XBmcu0XkcA",
    "outputId": "b002162a-ec78-4cfa-c2d8-6e9226e9ecd2"
   },
   "outputs": [],
   "source": [
    "# from google.colab import drive\n",
    "# drive.mount('/content/drive')"
   ]
  },
  {
   "cell_type": "markdown",
   "metadata": {
    "id": "Yu4D-h8QZ0Tv"
   },
   "source": [
    "# Data Cleaning"
   ]
  },
  {
   "cell_type": "markdown",
   "metadata": {
    "id": "bVmzVAjFZ0Tw"
   },
   "source": [
    "#### Loading data to a dataframe"
   ]
  },
  {
   "cell_type": "code",
   "execution_count": 3,
   "metadata": {
    "id": "AOS05I2qTKA7"
   },
   "outputs": [],
   "source": [
    "# df = pd.concat([pd.read_csv(file) for file in glob.glob('/content/drive/Shared drives/ML project/Kickstarter data/data/Kickstarter*.csv')], ignore_index = True)\n",
    "df = pd.concat([pd.read_csv(file) for file in glob.glob('Kickstarter*.csv')], ignore_index = True)"
   ]
  },
  {
   "cell_type": "code",
   "execution_count": 4,
   "metadata": {
    "colab": {
     "base_uri": "https://localhost:8080/"
    },
    "id": "7g_ilkxHSm3w",
    "outputId": "6381627e-6b44-4d59-eb9d-e90a09565204"
   },
   "outputs": [
    {
     "data": {
      "text/plain": [
       "Index(['backers_count', 'blurb', 'category', 'converted_pledged_amount',\n",
       "       'country', 'country_displayable_name', 'created_at', 'creator',\n",
       "       'currency', 'currency_symbol', 'currency_trailing_code',\n",
       "       'current_currency', 'deadline', 'disable_communication', 'friends',\n",
       "       'fx_rate', 'goal', 'id', 'is_backing', 'is_starrable', 'is_starred',\n",
       "       'launched_at', 'location', 'name', 'permissions', 'photo', 'pledged',\n",
       "       'profile', 'slug', 'source_url', 'spotlight', 'staff_pick', 'state',\n",
       "       'state_changed_at', 'static_usd_rate', 'urls', 'usd_pledged',\n",
       "       'usd_type'],\n",
       "      dtype='object')"
      ]
     },
     "execution_count": 4,
     "metadata": {},
     "output_type": "execute_result"
    }
   ],
   "source": [
    "df.columns"
   ]
  },
  {
   "cell_type": "code",
   "execution_count": 5,
   "metadata": {
    "colab": {
     "base_uri": "https://localhost:8080/",
     "height": 547
    },
    "id": "YfKA5oW_Sm31",
    "outputId": "9ad45bb1-117d-4a5d-8ba0-45b32c87a255"
   },
   "outputs": [
    {
     "data": {
      "text/html": [
       "<div>\n",
       "<style scoped>\n",
       "    .dataframe tbody tr th:only-of-type {\n",
       "        vertical-align: middle;\n",
       "    }\n",
       "\n",
       "    .dataframe tbody tr th {\n",
       "        vertical-align: top;\n",
       "    }\n",
       "\n",
       "    .dataframe thead th {\n",
       "        text-align: right;\n",
       "    }\n",
       "</style>\n",
       "<table border=\"1\" class=\"dataframe\">\n",
       "  <thead>\n",
       "    <tr style=\"text-align: right;\">\n",
       "      <th></th>\n",
       "      <th>backers_count</th>\n",
       "      <th>blurb</th>\n",
       "      <th>category</th>\n",
       "      <th>converted_pledged_amount</th>\n",
       "      <th>country</th>\n",
       "      <th>country_displayable_name</th>\n",
       "      <th>created_at</th>\n",
       "      <th>creator</th>\n",
       "      <th>currency</th>\n",
       "      <th>currency_symbol</th>\n",
       "      <th>currency_trailing_code</th>\n",
       "      <th>current_currency</th>\n",
       "      <th>deadline</th>\n",
       "      <th>disable_communication</th>\n",
       "      <th>friends</th>\n",
       "      <th>fx_rate</th>\n",
       "      <th>goal</th>\n",
       "      <th>id</th>\n",
       "      <th>is_backing</th>\n",
       "      <th>is_starrable</th>\n",
       "      <th>is_starred</th>\n",
       "      <th>launched_at</th>\n",
       "      <th>location</th>\n",
       "      <th>name</th>\n",
       "      <th>permissions</th>\n",
       "      <th>photo</th>\n",
       "      <th>pledged</th>\n",
       "      <th>profile</th>\n",
       "      <th>slug</th>\n",
       "      <th>source_url</th>\n",
       "      <th>spotlight</th>\n",
       "      <th>staff_pick</th>\n",
       "      <th>state</th>\n",
       "      <th>state_changed_at</th>\n",
       "      <th>static_usd_rate</th>\n",
       "      <th>urls</th>\n",
       "      <th>usd_pledged</th>\n",
       "      <th>usd_type</th>\n",
       "    </tr>\n",
       "  </thead>\n",
       "  <tbody>\n",
       "    <tr>\n",
       "      <th>0</th>\n",
       "      <td>61</td>\n",
       "      <td>Support great art! Join us as we re-stage the ...</td>\n",
       "      <td>{\"id\":254,\"name\":\"Performances\",\"slug\":\"dance/...</td>\n",
       "      <td>4618</td>\n",
       "      <td>US</td>\n",
       "      <td>the United States</td>\n",
       "      <td>1579292017</td>\n",
       "      <td>{\"id\":2092817311,\"name\":\"Brooklyn Ballet\",\"slu...</td>\n",
       "      <td>USD</td>\n",
       "      <td>$</td>\n",
       "      <td>True</td>\n",
       "      <td>USD</td>\n",
       "      <td>1583025192</td>\n",
       "      <td>False</td>\n",
       "      <td>NaN</td>\n",
       "      <td>1.0</td>\n",
       "      <td>3000.0</td>\n",
       "      <td>1568973024</td>\n",
       "      <td>NaN</td>\n",
       "      <td>False</td>\n",
       "      <td>NaN</td>\n",
       "      <td>1580433192</td>\n",
       "      <td>{\"id\":12589335,\"name\":\"Brooklyn\",\"slug\":\"brook...</td>\n",
       "      <td>Revisionist History 2</td>\n",
       "      <td>NaN</td>\n",
       "      <td>{\"key\":\"assets/027/785/229/436e3e732fb36a494fe...</td>\n",
       "      <td>4618.0</td>\n",
       "      <td>{\"id\":3914215,\"project_id\":3914215,\"state\":\"in...</td>\n",
       "      <td>revisionist-history-2</td>\n",
       "      <td>https://www.kickstarter.com/discover/categorie...</td>\n",
       "      <td>True</td>\n",
       "      <td>True</td>\n",
       "      <td>successful</td>\n",
       "      <td>1583025192</td>\n",
       "      <td>1.0</td>\n",
       "      <td>{\"web\":{\"project\":\"https://www.kickstarter.com...</td>\n",
       "      <td>4618.0</td>\n",
       "      <td>domestic</td>\n",
       "    </tr>\n",
       "    <tr>\n",
       "      <th>1</th>\n",
       "      <td>52</td>\n",
       "      <td>JinBucha is a new kind of Brewery in North Par...</td>\n",
       "      <td>{\"id\":307,\"name\":\"Drinks\",\"slug\":\"food/drinks\"...</td>\n",
       "      <td>3461</td>\n",
       "      <td>US</td>\n",
       "      <td>the United States</td>\n",
       "      <td>1446051515</td>\n",
       "      <td>{\"id\":1468694331,\"name\":\"Jing Chen\",\"slug\":\"ji...</td>\n",
       "      <td>USD</td>\n",
       "      <td>$</td>\n",
       "      <td>True</td>\n",
       "      <td>USD</td>\n",
       "      <td>1450118057</td>\n",
       "      <td>False</td>\n",
       "      <td>NaN</td>\n",
       "      <td>1.0</td>\n",
       "      <td>20000.0</td>\n",
       "      <td>1782378629</td>\n",
       "      <td>NaN</td>\n",
       "      <td>False</td>\n",
       "      <td>NaN</td>\n",
       "      <td>1447526057</td>\n",
       "      <td>{\"id\":2487889,\"name\":\"San Diego\",\"slug\":\"san-d...</td>\n",
       "      <td>JinBucha: A Modern Kombucha tasting room in No...</td>\n",
       "      <td>NaN</td>\n",
       "      <td>{\"key\":\"assets/012/291/675/7fb6348cc8cb988e243...</td>\n",
       "      <td>3461.0</td>\n",
       "      <td>{\"id\":2198010,\"project_id\":2198010,\"state\":\"in...</td>\n",
       "      <td>jinbucha-a-modern-kombucha-tasting-room-in-nor...</td>\n",
       "      <td>https://www.kickstarter.com/discover/categorie...</td>\n",
       "      <td>False</td>\n",
       "      <td>True</td>\n",
       "      <td>failed</td>\n",
       "      <td>1450118057</td>\n",
       "      <td>1.0</td>\n",
       "      <td>{\"web\":{\"project\":\"https://www.kickstarter.com...</td>\n",
       "      <td>3461.0</td>\n",
       "      <td>domestic</td>\n",
       "    </tr>\n",
       "    <tr>\n",
       "      <th>2</th>\n",
       "      <td>0</td>\n",
       "      <td>\"Taste The Scent of Tea\" Rose and Blanc Tea Ro...</td>\n",
       "      <td>{\"id\":307,\"name\":\"Drinks\",\"slug\":\"food/drinks\"...</td>\n",
       "      <td>0</td>\n",
       "      <td>US</td>\n",
       "      <td>the United States</td>\n",
       "      <td>1518159717</td>\n",
       "      <td>{\"id\":2026565095,\"name\":\"Giovanni\",\"is_registe...</td>\n",
       "      <td>USD</td>\n",
       "      <td>$</td>\n",
       "      <td>True</td>\n",
       "      <td>USD</td>\n",
       "      <td>1520233260</td>\n",
       "      <td>False</td>\n",
       "      <td>NaN</td>\n",
       "      <td>1.0</td>\n",
       "      <td>15000.0</td>\n",
       "      <td>2076142479</td>\n",
       "      <td>NaN</td>\n",
       "      <td>False</td>\n",
       "      <td>NaN</td>\n",
       "      <td>1518208887</td>\n",
       "      <td>{\"id\":2442047,\"name\":\"Los Angeles\",\"slug\":\"los...</td>\n",
       "      <td>Tea Room Cafe - Daily &amp; Herb Tea</td>\n",
       "      <td>NaN</td>\n",
       "      <td>{\"key\":\"assets/020/178/062/a5fae29636630f332e0...</td>\n",
       "      <td>0.0</td>\n",
       "      <td>{\"id\":3304826,\"project_id\":3304826,\"state\":\"in...</td>\n",
       "      <td>tea-room-cafe-daily-and-herb-tea</td>\n",
       "      <td>https://www.kickstarter.com/discover/categorie...</td>\n",
       "      <td>False</td>\n",
       "      <td>False</td>\n",
       "      <td>failed</td>\n",
       "      <td>1520233260</td>\n",
       "      <td>1.0</td>\n",
       "      <td>{\"web\":{\"project\":\"https://www.kickstarter.com...</td>\n",
       "      <td>0.0</td>\n",
       "      <td>domestic</td>\n",
       "    </tr>\n",
       "    <tr>\n",
       "      <th>3</th>\n",
       "      <td>2</td>\n",
       "      <td>Bringing Philly cheesesteaks (and other delici...</td>\n",
       "      <td>{\"id\":311,\"name\":\"Food Trucks\",\"slug\":\"food/fo...</td>\n",
       "      <td>25</td>\n",
       "      <td>US</td>\n",
       "      <td>the United States</td>\n",
       "      <td>1454217596</td>\n",
       "      <td>{\"id\":1629155736,\"name\":\"Glenn Edwards\",\"is_re...</td>\n",
       "      <td>USD</td>\n",
       "      <td>$</td>\n",
       "      <td>True</td>\n",
       "      <td>USD</td>\n",
       "      <td>1459885844</td>\n",
       "      <td>False</td>\n",
       "      <td>NaN</td>\n",
       "      <td>1.0</td>\n",
       "      <td>2000.0</td>\n",
       "      <td>1416797221</td>\n",
       "      <td>NaN</td>\n",
       "      <td>False</td>\n",
       "      <td>NaN</td>\n",
       "      <td>1454705444</td>\n",
       "      <td>{\"id\":2391279,\"name\":\"Denver\",\"slug\":\"denver-c...</td>\n",
       "      <td>HELP TWO BROTHERS OPEN A FOOD TRUCK!</td>\n",
       "      <td>NaN</td>\n",
       "      <td>{\"key\":\"assets/012/368/128/1784842b814ce9a6660...</td>\n",
       "      <td>25.0</td>\n",
       "      <td>{\"id\":2349147,\"project_id\":2349147,\"state\":\"in...</td>\n",
       "      <td>help-two-brothers-open-a-food-truck</td>\n",
       "      <td>https://www.kickstarter.com/discover/categorie...</td>\n",
       "      <td>False</td>\n",
       "      <td>False</td>\n",
       "      <td>failed</td>\n",
       "      <td>1459885844</td>\n",
       "      <td>1.0</td>\n",
       "      <td>{\"web\":{\"project\":\"https://www.kickstarter.com...</td>\n",
       "      <td>25.0</td>\n",
       "      <td>domestic</td>\n",
       "    </tr>\n",
       "    <tr>\n",
       "      <th>4</th>\n",
       "      <td>150</td>\n",
       "      <td>a frog plushie keychain and frog butt pin for ...</td>\n",
       "      <td>{\"id\":28,\"name\":\"Product Design\",\"slug\":\"desig...</td>\n",
       "      <td>3275</td>\n",
       "      <td>US</td>\n",
       "      <td>the United States</td>\n",
       "      <td>1571342290</td>\n",
       "      <td>{\"id\":932326000,\"name\":\"rainylune\",\"slug\":\"rai...</td>\n",
       "      <td>USD</td>\n",
       "      <td>$</td>\n",
       "      <td>True</td>\n",
       "      <td>USD</td>\n",
       "      <td>1574445600</td>\n",
       "      <td>False</td>\n",
       "      <td>NaN</td>\n",
       "      <td>1.0</td>\n",
       "      <td>800.0</td>\n",
       "      <td>1708708142</td>\n",
       "      <td>NaN</td>\n",
       "      <td>False</td>\n",
       "      <td>NaN</td>\n",
       "      <td>1573236000</td>\n",
       "      <td>{\"id\":2474209,\"name\":\"Pleasanton\",\"slug\":\"plea...</td>\n",
       "      <td>Son the Frog Plushie Keychain + JUICY Pin</td>\n",
       "      <td>NaN</td>\n",
       "      <td>{\"key\":\"assets/027/120/236/7d088ddbc3b3f156741...</td>\n",
       "      <td>3275.0</td>\n",
       "      <td>{\"id\":3834865,\"project_id\":3834865,\"state\":\"ac...</td>\n",
       "      <td>son-the-frog-plushie-keychain-juicy-pin</td>\n",
       "      <td>https://www.kickstarter.com/discover/categorie...</td>\n",
       "      <td>True</td>\n",
       "      <td>False</td>\n",
       "      <td>successful</td>\n",
       "      <td>1574445600</td>\n",
       "      <td>1.0</td>\n",
       "      <td>{\"web\":{\"project\":\"https://www.kickstarter.com...</td>\n",
       "      <td>3275.0</td>\n",
       "      <td>domestic</td>\n",
       "    </tr>\n",
       "  </tbody>\n",
       "</table>\n",
       "</div>"
      ],
      "text/plain": [
       "   backers_count                                              blurb  \\\n",
       "0             61  Support great art! Join us as we re-stage the ...   \n",
       "1             52  JinBucha is a new kind of Brewery in North Par...   \n",
       "2              0  \"Taste The Scent of Tea\" Rose and Blanc Tea Ro...   \n",
       "3              2  Bringing Philly cheesesteaks (and other delici...   \n",
       "4            150  a frog plushie keychain and frog butt pin for ...   \n",
       "\n",
       "                                            category  \\\n",
       "0  {\"id\":254,\"name\":\"Performances\",\"slug\":\"dance/...   \n",
       "1  {\"id\":307,\"name\":\"Drinks\",\"slug\":\"food/drinks\"...   \n",
       "2  {\"id\":307,\"name\":\"Drinks\",\"slug\":\"food/drinks\"...   \n",
       "3  {\"id\":311,\"name\":\"Food Trucks\",\"slug\":\"food/fo...   \n",
       "4  {\"id\":28,\"name\":\"Product Design\",\"slug\":\"desig...   \n",
       "\n",
       "   converted_pledged_amount country country_displayable_name  created_at  \\\n",
       "0                      4618      US        the United States  1579292017   \n",
       "1                      3461      US        the United States  1446051515   \n",
       "2                         0      US        the United States  1518159717   \n",
       "3                        25      US        the United States  1454217596   \n",
       "4                      3275      US        the United States  1571342290   \n",
       "\n",
       "                                             creator currency currency_symbol  \\\n",
       "0  {\"id\":2092817311,\"name\":\"Brooklyn Ballet\",\"slu...      USD               $   \n",
       "1  {\"id\":1468694331,\"name\":\"Jing Chen\",\"slug\":\"ji...      USD               $   \n",
       "2  {\"id\":2026565095,\"name\":\"Giovanni\",\"is_registe...      USD               $   \n",
       "3  {\"id\":1629155736,\"name\":\"Glenn Edwards\",\"is_re...      USD               $   \n",
       "4  {\"id\":932326000,\"name\":\"rainylune\",\"slug\":\"rai...      USD               $   \n",
       "\n",
       "   currency_trailing_code current_currency    deadline  disable_communication  \\\n",
       "0                    True              USD  1583025192                  False   \n",
       "1                    True              USD  1450118057                  False   \n",
       "2                    True              USD  1520233260                  False   \n",
       "3                    True              USD  1459885844                  False   \n",
       "4                    True              USD  1574445600                  False   \n",
       "\n",
       "  friends  fx_rate     goal          id is_backing  is_starrable is_starred  \\\n",
       "0     NaN      1.0   3000.0  1568973024        NaN         False        NaN   \n",
       "1     NaN      1.0  20000.0  1782378629        NaN         False        NaN   \n",
       "2     NaN      1.0  15000.0  2076142479        NaN         False        NaN   \n",
       "3     NaN      1.0   2000.0  1416797221        NaN         False        NaN   \n",
       "4     NaN      1.0    800.0  1708708142        NaN         False        NaN   \n",
       "\n",
       "   launched_at                                           location  \\\n",
       "0   1580433192  {\"id\":12589335,\"name\":\"Brooklyn\",\"slug\":\"brook...   \n",
       "1   1447526057  {\"id\":2487889,\"name\":\"San Diego\",\"slug\":\"san-d...   \n",
       "2   1518208887  {\"id\":2442047,\"name\":\"Los Angeles\",\"slug\":\"los...   \n",
       "3   1454705444  {\"id\":2391279,\"name\":\"Denver\",\"slug\":\"denver-c...   \n",
       "4   1573236000  {\"id\":2474209,\"name\":\"Pleasanton\",\"slug\":\"plea...   \n",
       "\n",
       "                                                name permissions  \\\n",
       "0                              Revisionist History 2         NaN   \n",
       "1  JinBucha: A Modern Kombucha tasting room in No...         NaN   \n",
       "2                   Tea Room Cafe - Daily & Herb Tea         NaN   \n",
       "3               HELP TWO BROTHERS OPEN A FOOD TRUCK!         NaN   \n",
       "4          Son the Frog Plushie Keychain + JUICY Pin         NaN   \n",
       "\n",
       "                                               photo  pledged  \\\n",
       "0  {\"key\":\"assets/027/785/229/436e3e732fb36a494fe...   4618.0   \n",
       "1  {\"key\":\"assets/012/291/675/7fb6348cc8cb988e243...   3461.0   \n",
       "2  {\"key\":\"assets/020/178/062/a5fae29636630f332e0...      0.0   \n",
       "3  {\"key\":\"assets/012/368/128/1784842b814ce9a6660...     25.0   \n",
       "4  {\"key\":\"assets/027/120/236/7d088ddbc3b3f156741...   3275.0   \n",
       "\n",
       "                                             profile  \\\n",
       "0  {\"id\":3914215,\"project_id\":3914215,\"state\":\"in...   \n",
       "1  {\"id\":2198010,\"project_id\":2198010,\"state\":\"in...   \n",
       "2  {\"id\":3304826,\"project_id\":3304826,\"state\":\"in...   \n",
       "3  {\"id\":2349147,\"project_id\":2349147,\"state\":\"in...   \n",
       "4  {\"id\":3834865,\"project_id\":3834865,\"state\":\"ac...   \n",
       "\n",
       "                                                slug  \\\n",
       "0                              revisionist-history-2   \n",
       "1  jinbucha-a-modern-kombucha-tasting-room-in-nor...   \n",
       "2                   tea-room-cafe-daily-and-herb-tea   \n",
       "3                help-two-brothers-open-a-food-truck   \n",
       "4            son-the-frog-plushie-keychain-juicy-pin   \n",
       "\n",
       "                                          source_url  spotlight  staff_pick  \\\n",
       "0  https://www.kickstarter.com/discover/categorie...       True        True   \n",
       "1  https://www.kickstarter.com/discover/categorie...      False        True   \n",
       "2  https://www.kickstarter.com/discover/categorie...      False       False   \n",
       "3  https://www.kickstarter.com/discover/categorie...      False       False   \n",
       "4  https://www.kickstarter.com/discover/categorie...       True       False   \n",
       "\n",
       "        state  state_changed_at  static_usd_rate  \\\n",
       "0  successful        1583025192              1.0   \n",
       "1      failed        1450118057              1.0   \n",
       "2      failed        1520233260              1.0   \n",
       "3      failed        1459885844              1.0   \n",
       "4  successful        1574445600              1.0   \n",
       "\n",
       "                                                urls  usd_pledged  usd_type  \n",
       "0  {\"web\":{\"project\":\"https://www.kickstarter.com...       4618.0  domestic  \n",
       "1  {\"web\":{\"project\":\"https://www.kickstarter.com...       3461.0  domestic  \n",
       "2  {\"web\":{\"project\":\"https://www.kickstarter.com...          0.0  domestic  \n",
       "3  {\"web\":{\"project\":\"https://www.kickstarter.com...         25.0  domestic  \n",
       "4  {\"web\":{\"project\":\"https://www.kickstarter.com...       3275.0  domestic  "
      ]
     },
     "execution_count": 5,
     "metadata": {},
     "output_type": "execute_result"
    }
   ],
   "source": [
    "pd.set_option('display.max_columns',100)\n",
    "df.head()"
   ]
  },
  {
   "cell_type": "code",
   "execution_count": 6,
   "metadata": {
    "colab": {
     "base_uri": "https://localhost:8080/"
    },
    "id": "UGutqH2KZ0T7",
    "outputId": "f98f3678-23ed-412c-cb56-b368ff1e04ee"
   },
   "outputs": [
    {
     "data": {
      "text/plain": [
       "(219688, 38)"
      ]
     },
     "execution_count": 6,
     "metadata": {},
     "output_type": "execute_result"
    }
   ],
   "source": [
    "df.shape"
   ]
  },
  {
   "cell_type": "code",
   "execution_count": 7,
   "metadata": {
    "colab": {
     "base_uri": "https://localhost:8080/"
    },
    "id": "5G7uxuO_Z0T_",
    "outputId": "505aee3e-0722-4afb-a7a5-f6c471f15f14"
   },
   "outputs": [
    {
     "name": "stdout",
     "output_type": "stream",
     "text": [
      "There are 27669 duplicated instances in the dateset\n"
     ]
    }
   ],
   "source": [
    "x = len(df[df.duplicated(subset='id')])\n",
    "print(f'There are {x} duplicated instances in the dateset')"
   ]
  },
  {
   "cell_type": "markdown",
   "metadata": {
    "id": "wzg4vWm-Z0UC"
   },
   "source": [
    "#### Droping 27669 duplicated instances from the dataset"
   ]
  },
  {
   "cell_type": "code",
   "execution_count": 8,
   "metadata": {
    "colab": {
     "base_uri": "https://localhost:8080/",
     "height": 1000
    },
    "id": "AsX-KjpIZ0UD",
    "outputId": "3238aed5-f27c-43a6-9c02-7ed56bfc74a7",
    "scrolled": true
   },
   "outputs": [
    {
     "data": {
      "text/html": [
       "<div>\n",
       "<style scoped>\n",
       "    .dataframe tbody tr th:only-of-type {\n",
       "        vertical-align: middle;\n",
       "    }\n",
       "\n",
       "    .dataframe tbody tr th {\n",
       "        vertical-align: top;\n",
       "    }\n",
       "\n",
       "    .dataframe thead th {\n",
       "        text-align: right;\n",
       "    }\n",
       "</style>\n",
       "<table border=\"1\" class=\"dataframe\">\n",
       "  <thead>\n",
       "    <tr style=\"text-align: right;\">\n",
       "      <th></th>\n",
       "      <th>backers_count</th>\n",
       "      <th>blurb</th>\n",
       "      <th>category</th>\n",
       "      <th>converted_pledged_amount</th>\n",
       "      <th>country</th>\n",
       "      <th>country_displayable_name</th>\n",
       "      <th>created_at</th>\n",
       "      <th>creator</th>\n",
       "      <th>currency</th>\n",
       "      <th>currency_symbol</th>\n",
       "      <th>currency_trailing_code</th>\n",
       "      <th>current_currency</th>\n",
       "      <th>deadline</th>\n",
       "      <th>disable_communication</th>\n",
       "      <th>friends</th>\n",
       "      <th>fx_rate</th>\n",
       "      <th>goal</th>\n",
       "      <th>id</th>\n",
       "      <th>is_backing</th>\n",
       "      <th>is_starrable</th>\n",
       "      <th>is_starred</th>\n",
       "      <th>launched_at</th>\n",
       "      <th>location</th>\n",
       "      <th>name</th>\n",
       "      <th>permissions</th>\n",
       "      <th>photo</th>\n",
       "      <th>pledged</th>\n",
       "      <th>profile</th>\n",
       "      <th>slug</th>\n",
       "      <th>source_url</th>\n",
       "      <th>spotlight</th>\n",
       "      <th>staff_pick</th>\n",
       "      <th>state</th>\n",
       "      <th>state_changed_at</th>\n",
       "      <th>static_usd_rate</th>\n",
       "      <th>urls</th>\n",
       "      <th>usd_pledged</th>\n",
       "      <th>usd_type</th>\n",
       "    </tr>\n",
       "  </thead>\n",
       "  <tbody>\n",
       "    <tr>\n",
       "      <th>0</th>\n",
       "      <td>61</td>\n",
       "      <td>Support great art! Join us as we re-stage the ...</td>\n",
       "      <td>{\"id\":254,\"name\":\"Performances\",\"slug\":\"dance/...</td>\n",
       "      <td>4618</td>\n",
       "      <td>US</td>\n",
       "      <td>the United States</td>\n",
       "      <td>1579292017</td>\n",
       "      <td>{\"id\":2092817311,\"name\":\"Brooklyn Ballet\",\"slu...</td>\n",
       "      <td>USD</td>\n",
       "      <td>$</td>\n",
       "      <td>True</td>\n",
       "      <td>USD</td>\n",
       "      <td>1583025192</td>\n",
       "      <td>False</td>\n",
       "      <td>NaN</td>\n",
       "      <td>1.000000</td>\n",
       "      <td>3000.0</td>\n",
       "      <td>1568973024</td>\n",
       "      <td>NaN</td>\n",
       "      <td>False</td>\n",
       "      <td>NaN</td>\n",
       "      <td>1580433192</td>\n",
       "      <td>{\"id\":12589335,\"name\":\"Brooklyn\",\"slug\":\"brook...</td>\n",
       "      <td>Revisionist History 2</td>\n",
       "      <td>NaN</td>\n",
       "      <td>{\"key\":\"assets/027/785/229/436e3e732fb36a494fe...</td>\n",
       "      <td>4618.00</td>\n",
       "      <td>{\"id\":3914215,\"project_id\":3914215,\"state\":\"in...</td>\n",
       "      <td>revisionist-history-2</td>\n",
       "      <td>https://www.kickstarter.com/discover/categorie...</td>\n",
       "      <td>True</td>\n",
       "      <td>True</td>\n",
       "      <td>successful</td>\n",
       "      <td>1583025192</td>\n",
       "      <td>1.000000</td>\n",
       "      <td>{\"web\":{\"project\":\"https://www.kickstarter.com...</td>\n",
       "      <td>4618.000000</td>\n",
       "      <td>domestic</td>\n",
       "    </tr>\n",
       "    <tr>\n",
       "      <th>1</th>\n",
       "      <td>52</td>\n",
       "      <td>JinBucha is a new kind of Brewery in North Par...</td>\n",
       "      <td>{\"id\":307,\"name\":\"Drinks\",\"slug\":\"food/drinks\"...</td>\n",
       "      <td>3461</td>\n",
       "      <td>US</td>\n",
       "      <td>the United States</td>\n",
       "      <td>1446051515</td>\n",
       "      <td>{\"id\":1468694331,\"name\":\"Jing Chen\",\"slug\":\"ji...</td>\n",
       "      <td>USD</td>\n",
       "      <td>$</td>\n",
       "      <td>True</td>\n",
       "      <td>USD</td>\n",
       "      <td>1450118057</td>\n",
       "      <td>False</td>\n",
       "      <td>NaN</td>\n",
       "      <td>1.000000</td>\n",
       "      <td>20000.0</td>\n",
       "      <td>1782378629</td>\n",
       "      <td>NaN</td>\n",
       "      <td>False</td>\n",
       "      <td>NaN</td>\n",
       "      <td>1447526057</td>\n",
       "      <td>{\"id\":2487889,\"name\":\"San Diego\",\"slug\":\"san-d...</td>\n",
       "      <td>JinBucha: A Modern Kombucha tasting room in No...</td>\n",
       "      <td>NaN</td>\n",
       "      <td>{\"key\":\"assets/012/291/675/7fb6348cc8cb988e243...</td>\n",
       "      <td>3461.00</td>\n",
       "      <td>{\"id\":2198010,\"project_id\":2198010,\"state\":\"in...</td>\n",
       "      <td>jinbucha-a-modern-kombucha-tasting-room-in-nor...</td>\n",
       "      <td>https://www.kickstarter.com/discover/categorie...</td>\n",
       "      <td>False</td>\n",
       "      <td>True</td>\n",
       "      <td>failed</td>\n",
       "      <td>1450118057</td>\n",
       "      <td>1.000000</td>\n",
       "      <td>{\"web\":{\"project\":\"https://www.kickstarter.com...</td>\n",
       "      <td>3461.000000</td>\n",
       "      <td>domestic</td>\n",
       "    </tr>\n",
       "    <tr>\n",
       "      <th>2</th>\n",
       "      <td>0</td>\n",
       "      <td>\"Taste The Scent of Tea\" Rose and Blanc Tea Ro...</td>\n",
       "      <td>{\"id\":307,\"name\":\"Drinks\",\"slug\":\"food/drinks\"...</td>\n",
       "      <td>0</td>\n",
       "      <td>US</td>\n",
       "      <td>the United States</td>\n",
       "      <td>1518159717</td>\n",
       "      <td>{\"id\":2026565095,\"name\":\"Giovanni\",\"is_registe...</td>\n",
       "      <td>USD</td>\n",
       "      <td>$</td>\n",
       "      <td>True</td>\n",
       "      <td>USD</td>\n",
       "      <td>1520233260</td>\n",
       "      <td>False</td>\n",
       "      <td>NaN</td>\n",
       "      <td>1.000000</td>\n",
       "      <td>15000.0</td>\n",
       "      <td>2076142479</td>\n",
       "      <td>NaN</td>\n",
       "      <td>False</td>\n",
       "      <td>NaN</td>\n",
       "      <td>1518208887</td>\n",
       "      <td>{\"id\":2442047,\"name\":\"Los Angeles\",\"slug\":\"los...</td>\n",
       "      <td>Tea Room Cafe - Daily &amp; Herb Tea</td>\n",
       "      <td>NaN</td>\n",
       "      <td>{\"key\":\"assets/020/178/062/a5fae29636630f332e0...</td>\n",
       "      <td>0.00</td>\n",
       "      <td>{\"id\":3304826,\"project_id\":3304826,\"state\":\"in...</td>\n",
       "      <td>tea-room-cafe-daily-and-herb-tea</td>\n",
       "      <td>https://www.kickstarter.com/discover/categorie...</td>\n",
       "      <td>False</td>\n",
       "      <td>False</td>\n",
       "      <td>failed</td>\n",
       "      <td>1520233260</td>\n",
       "      <td>1.000000</td>\n",
       "      <td>{\"web\":{\"project\":\"https://www.kickstarter.com...</td>\n",
       "      <td>0.000000</td>\n",
       "      <td>domestic</td>\n",
       "    </tr>\n",
       "    <tr>\n",
       "      <th>3</th>\n",
       "      <td>2</td>\n",
       "      <td>Bringing Philly cheesesteaks (and other delici...</td>\n",
       "      <td>{\"id\":311,\"name\":\"Food Trucks\",\"slug\":\"food/fo...</td>\n",
       "      <td>25</td>\n",
       "      <td>US</td>\n",
       "      <td>the United States</td>\n",
       "      <td>1454217596</td>\n",
       "      <td>{\"id\":1629155736,\"name\":\"Glenn Edwards\",\"is_re...</td>\n",
       "      <td>USD</td>\n",
       "      <td>$</td>\n",
       "      <td>True</td>\n",
       "      <td>USD</td>\n",
       "      <td>1459885844</td>\n",
       "      <td>False</td>\n",
       "      <td>NaN</td>\n",
       "      <td>1.000000</td>\n",
       "      <td>2000.0</td>\n",
       "      <td>1416797221</td>\n",
       "      <td>NaN</td>\n",
       "      <td>False</td>\n",
       "      <td>NaN</td>\n",
       "      <td>1454705444</td>\n",
       "      <td>{\"id\":2391279,\"name\":\"Denver\",\"slug\":\"denver-c...</td>\n",
       "      <td>HELP TWO BROTHERS OPEN A FOOD TRUCK!</td>\n",
       "      <td>NaN</td>\n",
       "      <td>{\"key\":\"assets/012/368/128/1784842b814ce9a6660...</td>\n",
       "      <td>25.00</td>\n",
       "      <td>{\"id\":2349147,\"project_id\":2349147,\"state\":\"in...</td>\n",
       "      <td>help-two-brothers-open-a-food-truck</td>\n",
       "      <td>https://www.kickstarter.com/discover/categorie...</td>\n",
       "      <td>False</td>\n",
       "      <td>False</td>\n",
       "      <td>failed</td>\n",
       "      <td>1459885844</td>\n",
       "      <td>1.000000</td>\n",
       "      <td>{\"web\":{\"project\":\"https://www.kickstarter.com...</td>\n",
       "      <td>25.000000</td>\n",
       "      <td>domestic</td>\n",
       "    </tr>\n",
       "    <tr>\n",
       "      <th>4</th>\n",
       "      <td>150</td>\n",
       "      <td>a frog plushie keychain and frog butt pin for ...</td>\n",
       "      <td>{\"id\":28,\"name\":\"Product Design\",\"slug\":\"desig...</td>\n",
       "      <td>3275</td>\n",
       "      <td>US</td>\n",
       "      <td>the United States</td>\n",
       "      <td>1571342290</td>\n",
       "      <td>{\"id\":932326000,\"name\":\"rainylune\",\"slug\":\"rai...</td>\n",
       "      <td>USD</td>\n",
       "      <td>$</td>\n",
       "      <td>True</td>\n",
       "      <td>USD</td>\n",
       "      <td>1574445600</td>\n",
       "      <td>False</td>\n",
       "      <td>NaN</td>\n",
       "      <td>1.000000</td>\n",
       "      <td>800.0</td>\n",
       "      <td>1708708142</td>\n",
       "      <td>NaN</td>\n",
       "      <td>False</td>\n",
       "      <td>NaN</td>\n",
       "      <td>1573236000</td>\n",
       "      <td>{\"id\":2474209,\"name\":\"Pleasanton\",\"slug\":\"plea...</td>\n",
       "      <td>Son the Frog Plushie Keychain + JUICY Pin</td>\n",
       "      <td>NaN</td>\n",
       "      <td>{\"key\":\"assets/027/120/236/7d088ddbc3b3f156741...</td>\n",
       "      <td>3275.00</td>\n",
       "      <td>{\"id\":3834865,\"project_id\":3834865,\"state\":\"ac...</td>\n",
       "      <td>son-the-frog-plushie-keychain-juicy-pin</td>\n",
       "      <td>https://www.kickstarter.com/discover/categorie...</td>\n",
       "      <td>True</td>\n",
       "      <td>False</td>\n",
       "      <td>successful</td>\n",
       "      <td>1574445600</td>\n",
       "      <td>1.000000</td>\n",
       "      <td>{\"web\":{\"project\":\"https://www.kickstarter.com...</td>\n",
       "      <td>3275.000000</td>\n",
       "      <td>domestic</td>\n",
       "    </tr>\n",
       "    <tr>\n",
       "      <th>...</th>\n",
       "      <td>...</td>\n",
       "      <td>...</td>\n",
       "      <td>...</td>\n",
       "      <td>...</td>\n",
       "      <td>...</td>\n",
       "      <td>...</td>\n",
       "      <td>...</td>\n",
       "      <td>...</td>\n",
       "      <td>...</td>\n",
       "      <td>...</td>\n",
       "      <td>...</td>\n",
       "      <td>...</td>\n",
       "      <td>...</td>\n",
       "      <td>...</td>\n",
       "      <td>...</td>\n",
       "      <td>...</td>\n",
       "      <td>...</td>\n",
       "      <td>...</td>\n",
       "      <td>...</td>\n",
       "      <td>...</td>\n",
       "      <td>...</td>\n",
       "      <td>...</td>\n",
       "      <td>...</td>\n",
       "      <td>...</td>\n",
       "      <td>...</td>\n",
       "      <td>...</td>\n",
       "      <td>...</td>\n",
       "      <td>...</td>\n",
       "      <td>...</td>\n",
       "      <td>...</td>\n",
       "      <td>...</td>\n",
       "      <td>...</td>\n",
       "      <td>...</td>\n",
       "      <td>...</td>\n",
       "      <td>...</td>\n",
       "      <td>...</td>\n",
       "      <td>...</td>\n",
       "      <td>...</td>\n",
       "    </tr>\n",
       "    <tr>\n",
       "      <th>192014</th>\n",
       "      <td>347</td>\n",
       "      <td>A Sound of Thunder's first official live conce...</td>\n",
       "      <td>{\"id\":241,\"name\":\"Metal\",\"slug\":\"music/metal\",...</td>\n",
       "      <td>24237</td>\n",
       "      <td>US</td>\n",
       "      <td>the United States</td>\n",
       "      <td>1550774021</td>\n",
       "      <td>{\"id\":710019627,\"name\":\"A Sound of Thunder\",\"s...</td>\n",
       "      <td>USD</td>\n",
       "      <td>$</td>\n",
       "      <td>True</td>\n",
       "      <td>USD</td>\n",
       "      <td>1553893200</td>\n",
       "      <td>False</td>\n",
       "      <td>NaN</td>\n",
       "      <td>1.000000</td>\n",
       "      <td>12000.0</td>\n",
       "      <td>184006593</td>\n",
       "      <td>NaN</td>\n",
       "      <td>False</td>\n",
       "      <td>NaN</td>\n",
       "      <td>1551280330</td>\n",
       "      <td>{\"id\":2514815,\"name\":\"Washington\",\"slug\":\"wash...</td>\n",
       "      <td>Live from the Deadside</td>\n",
       "      <td>NaN</td>\n",
       "      <td>{\"key\":\"assets/024/168/654/6849dc64fb47e5327ae...</td>\n",
       "      <td>24237.00</td>\n",
       "      <td>{\"id\":3674266,\"project_id\":3674266,\"state\":\"in...</td>\n",
       "      <td>live-from-the-deadside</td>\n",
       "      <td>https://www.kickstarter.com/discover/categorie...</td>\n",
       "      <td>True</td>\n",
       "      <td>True</td>\n",
       "      <td>successful</td>\n",
       "      <td>1553893202</td>\n",
       "      <td>1.000000</td>\n",
       "      <td>{\"web\":{\"project\":\"https://www.kickstarter.com...</td>\n",
       "      <td>24237.000000</td>\n",
       "      <td>domestic</td>\n",
       "    </tr>\n",
       "    <tr>\n",
       "      <th>192015</th>\n",
       "      <td>84</td>\n",
       "      <td>Teenage rebels! Rock'n'roll impersonation! Big...</td>\n",
       "      <td>{\"id\":45,\"name\":\"Art Books\",\"slug\":\"publishing...</td>\n",
       "      <td>5113</td>\n",
       "      <td>GB</td>\n",
       "      <td>the United Kingdom</td>\n",
       "      <td>1362514383</td>\n",
       "      <td>{\"id\":1240360911,\"name\":\"Kevin Ward\",\"slug\":\"f...</td>\n",
       "      <td>GBP</td>\n",
       "      <td>£</td>\n",
       "      <td>False</td>\n",
       "      <td>USD</td>\n",
       "      <td>1376120740</td>\n",
       "      <td>False</td>\n",
       "      <td>NaN</td>\n",
       "      <td>1.291356</td>\n",
       "      <td>3000.0</td>\n",
       "      <td>554269494</td>\n",
       "      <td>NaN</td>\n",
       "      <td>False</td>\n",
       "      <td>NaN</td>\n",
       "      <td>1373010340</td>\n",
       "      <td>{\"id\":44418,\"name\":\"London\",\"slug\":\"london-gb\"...</td>\n",
       "      <td>The Fur Trap book &amp; record</td>\n",
       "      <td>NaN</td>\n",
       "      <td>{\"key\":\"assets/011/489/720/2df7b8cdce40a6c94de...</td>\n",
       "      <td>3298.00</td>\n",
       "      <td>{\"id\":491723,\"project_id\":491723,\"state\":\"inac...</td>\n",
       "      <td>the-fur-trap-book-and-record</td>\n",
       "      <td>https://www.kickstarter.com/discover/categorie...</td>\n",
       "      <td>True</td>\n",
       "      <td>True</td>\n",
       "      <td>successful</td>\n",
       "      <td>1376120740</td>\n",
       "      <td>1.526377</td>\n",
       "      <td>{\"web\":{\"project\":\"https://www.kickstarter.com...</td>\n",
       "      <td>5033.992434</td>\n",
       "      <td>domestic</td>\n",
       "    </tr>\n",
       "    <tr>\n",
       "      <th>192016</th>\n",
       "      <td>31</td>\n",
       "      <td>Be apart of a 4 song journey told through inst...</td>\n",
       "      <td>{\"id\":241,\"name\":\"Metal\",\"slug\":\"music/metal\",...</td>\n",
       "      <td>739</td>\n",
       "      <td>US</td>\n",
       "      <td>the United States</td>\n",
       "      <td>1466469301</td>\n",
       "      <td>{\"id\":1926893203,\"name\":\"Chris Sopko\",\"slug\":\"...</td>\n",
       "      <td>USD</td>\n",
       "      <td>$</td>\n",
       "      <td>True</td>\n",
       "      <td>USD</td>\n",
       "      <td>1471124998</td>\n",
       "      <td>False</td>\n",
       "      <td>NaN</td>\n",
       "      <td>1.000000</td>\n",
       "      <td>7000.0</td>\n",
       "      <td>298523622</td>\n",
       "      <td>NaN</td>\n",
       "      <td>False</td>\n",
       "      <td>NaN</td>\n",
       "      <td>1468532998</td>\n",
       "      <td>{\"id\":2453173,\"name\":\"Montclair\",\"slug\":\"montc...</td>\n",
       "      <td>Sonder: Debut Progressive Metal EP by Chris Sopko</td>\n",
       "      <td>NaN</td>\n",
       "      <td>{\"key\":\"assets/012/998/531/869f6deed98aa109591...</td>\n",
       "      <td>739.00</td>\n",
       "      <td>{\"id\":2568246,\"project_id\":2568246,\"state\":\"in...</td>\n",
       "      <td>sonder-debut-progressive-metal-ep-by-chris-sopko</td>\n",
       "      <td>https://www.kickstarter.com/discover/categorie...</td>\n",
       "      <td>False</td>\n",
       "      <td>True</td>\n",
       "      <td>failed</td>\n",
       "      <td>1471124998</td>\n",
       "      <td>1.000000</td>\n",
       "      <td>{\"web\":{\"project\":\"https://www.kickstarter.com...</td>\n",
       "      <td>739.000000</td>\n",
       "      <td>domestic</td>\n",
       "    </tr>\n",
       "    <tr>\n",
       "      <th>192017</th>\n",
       "      <td>849</td>\n",
       "      <td>Discover and see iconic characters like you ne...</td>\n",
       "      <td>{\"id\":45,\"name\":\"Art Books\",\"slug\":\"publishing...</td>\n",
       "      <td>49471</td>\n",
       "      <td>US</td>\n",
       "      <td>the United States</td>\n",
       "      <td>1448738055</td>\n",
       "      <td>{\"id\":30527474,\"name\":\"Alex Solis\",\"slug\":\"ale...</td>\n",
       "      <td>USD</td>\n",
       "      <td>$</td>\n",
       "      <td>True</td>\n",
       "      <td>USD</td>\n",
       "      <td>1452367173</td>\n",
       "      <td>False</td>\n",
       "      <td>NaN</td>\n",
       "      <td>1.000000</td>\n",
       "      <td>7000.0</td>\n",
       "      <td>1809751208</td>\n",
       "      <td>NaN</td>\n",
       "      <td>False</td>\n",
       "      <td>NaN</td>\n",
       "      <td>1449775173</td>\n",
       "      <td>{\"id\":2379574,\"name\":\"Chicago\",\"slug\":\"chicago...</td>\n",
       "      <td>Icons Unmasked Book</td>\n",
       "      <td>NaN</td>\n",
       "      <td>{\"key\":\"assets/012/319/353/5ca912d957d6f71adb1...</td>\n",
       "      <td>49471.00</td>\n",
       "      <td>{\"id\":2251609,\"project_id\":2251609,\"state\":\"ac...</td>\n",
       "      <td>icons-unmasked-book</td>\n",
       "      <td>https://www.kickstarter.com/discover/categorie...</td>\n",
       "      <td>True</td>\n",
       "      <td>True</td>\n",
       "      <td>successful</td>\n",
       "      <td>1452367174</td>\n",
       "      <td>1.000000</td>\n",
       "      <td>{\"web\":{\"project\":\"https://www.kickstarter.com...</td>\n",
       "      <td>49471.000000</td>\n",
       "      <td>domestic</td>\n",
       "    </tr>\n",
       "    <tr>\n",
       "      <th>192018</th>\n",
       "      <td>4</td>\n",
       "      <td>We are ready to work! We need your help to inv...</td>\n",
       "      <td>{\"id\":315,\"name\":\"Vegan\",\"slug\":\"food/vegan\",\"...</td>\n",
       "      <td>9</td>\n",
       "      <td>CA</td>\n",
       "      <td>Canada</td>\n",
       "      <td>1578692634</td>\n",
       "      <td>{\"id\":1786247549,\"name\":\"Denis Lesnjak\",\"slug\"...</td>\n",
       "      <td>CAD</td>\n",
       "      <td>$</td>\n",
       "      <td>True</td>\n",
       "      <td>USD</td>\n",
       "      <td>1584219252</td>\n",
       "      <td>False</td>\n",
       "      <td>NaN</td>\n",
       "      <td>0.755744</td>\n",
       "      <td>20000.0</td>\n",
       "      <td>603128214</td>\n",
       "      <td>NaN</td>\n",
       "      <td>False</td>\n",
       "      <td>NaN</td>\n",
       "      <td>1579038852</td>\n",
       "      <td>{\"id\":850928,\"name\":\"Vidovec\",\"slug\":\"vidovec-...</td>\n",
       "      <td>Forestation Transformation</td>\n",
       "      <td>NaN</td>\n",
       "      <td>{\"key\":\"assets/027/726/759/ed9a349b3846411a35c...</td>\n",
       "      <td>13.29</td>\n",
       "      <td>{\"id\":3909003,\"project_id\":3909003,\"state\":\"in...</td>\n",
       "      <td>forestation-transformation-0</td>\n",
       "      <td>https://www.kickstarter.com/discover/categorie...</td>\n",
       "      <td>False</td>\n",
       "      <td>False</td>\n",
       "      <td>failed</td>\n",
       "      <td>1584219254</td>\n",
       "      <td>0.766406</td>\n",
       "      <td>{\"web\":{\"project\":\"https://www.kickstarter.com...</td>\n",
       "      <td>10.185531</td>\n",
       "      <td>domestic</td>\n",
       "    </tr>\n",
       "  </tbody>\n",
       "</table>\n",
       "<p>192019 rows × 38 columns</p>\n",
       "</div>"
      ],
      "text/plain": [
       "        backers_count                                              blurb  \\\n",
       "0                  61  Support great art! Join us as we re-stage the ...   \n",
       "1                  52  JinBucha is a new kind of Brewery in North Par...   \n",
       "2                   0  \"Taste The Scent of Tea\" Rose and Blanc Tea Ro...   \n",
       "3                   2  Bringing Philly cheesesteaks (and other delici...   \n",
       "4                 150  a frog plushie keychain and frog butt pin for ...   \n",
       "...               ...                                                ...   \n",
       "192014            347  A Sound of Thunder's first official live conce...   \n",
       "192015             84  Teenage rebels! Rock'n'roll impersonation! Big...   \n",
       "192016             31  Be apart of a 4 song journey told through inst...   \n",
       "192017            849  Discover and see iconic characters like you ne...   \n",
       "192018              4  We are ready to work! We need your help to inv...   \n",
       "\n",
       "                                                 category  \\\n",
       "0       {\"id\":254,\"name\":\"Performances\",\"slug\":\"dance/...   \n",
       "1       {\"id\":307,\"name\":\"Drinks\",\"slug\":\"food/drinks\"...   \n",
       "2       {\"id\":307,\"name\":\"Drinks\",\"slug\":\"food/drinks\"...   \n",
       "3       {\"id\":311,\"name\":\"Food Trucks\",\"slug\":\"food/fo...   \n",
       "4       {\"id\":28,\"name\":\"Product Design\",\"slug\":\"desig...   \n",
       "...                                                   ...   \n",
       "192014  {\"id\":241,\"name\":\"Metal\",\"slug\":\"music/metal\",...   \n",
       "192015  {\"id\":45,\"name\":\"Art Books\",\"slug\":\"publishing...   \n",
       "192016  {\"id\":241,\"name\":\"Metal\",\"slug\":\"music/metal\",...   \n",
       "192017  {\"id\":45,\"name\":\"Art Books\",\"slug\":\"publishing...   \n",
       "192018  {\"id\":315,\"name\":\"Vegan\",\"slug\":\"food/vegan\",\"...   \n",
       "\n",
       "        converted_pledged_amount country country_displayable_name  created_at  \\\n",
       "0                           4618      US        the United States  1579292017   \n",
       "1                           3461      US        the United States  1446051515   \n",
       "2                              0      US        the United States  1518159717   \n",
       "3                             25      US        the United States  1454217596   \n",
       "4                           3275      US        the United States  1571342290   \n",
       "...                          ...     ...                      ...         ...   \n",
       "192014                     24237      US        the United States  1550774021   \n",
       "192015                      5113      GB       the United Kingdom  1362514383   \n",
       "192016                       739      US        the United States  1466469301   \n",
       "192017                     49471      US        the United States  1448738055   \n",
       "192018                         9      CA                   Canada  1578692634   \n",
       "\n",
       "                                                  creator currency  \\\n",
       "0       {\"id\":2092817311,\"name\":\"Brooklyn Ballet\",\"slu...      USD   \n",
       "1       {\"id\":1468694331,\"name\":\"Jing Chen\",\"slug\":\"ji...      USD   \n",
       "2       {\"id\":2026565095,\"name\":\"Giovanni\",\"is_registe...      USD   \n",
       "3       {\"id\":1629155736,\"name\":\"Glenn Edwards\",\"is_re...      USD   \n",
       "4       {\"id\":932326000,\"name\":\"rainylune\",\"slug\":\"rai...      USD   \n",
       "...                                                   ...      ...   \n",
       "192014  {\"id\":710019627,\"name\":\"A Sound of Thunder\",\"s...      USD   \n",
       "192015  {\"id\":1240360911,\"name\":\"Kevin Ward\",\"slug\":\"f...      GBP   \n",
       "192016  {\"id\":1926893203,\"name\":\"Chris Sopko\",\"slug\":\"...      USD   \n",
       "192017  {\"id\":30527474,\"name\":\"Alex Solis\",\"slug\":\"ale...      USD   \n",
       "192018  {\"id\":1786247549,\"name\":\"Denis Lesnjak\",\"slug\"...      CAD   \n",
       "\n",
       "       currency_symbol  currency_trailing_code current_currency    deadline  \\\n",
       "0                    $                    True              USD  1583025192   \n",
       "1                    $                    True              USD  1450118057   \n",
       "2                    $                    True              USD  1520233260   \n",
       "3                    $                    True              USD  1459885844   \n",
       "4                    $                    True              USD  1574445600   \n",
       "...                ...                     ...              ...         ...   \n",
       "192014               $                    True              USD  1553893200   \n",
       "192015               £                   False              USD  1376120740   \n",
       "192016               $                    True              USD  1471124998   \n",
       "192017               $                    True              USD  1452367173   \n",
       "192018               $                    True              USD  1584219252   \n",
       "\n",
       "        disable_communication friends   fx_rate     goal          id  \\\n",
       "0                       False     NaN  1.000000   3000.0  1568973024   \n",
       "1                       False     NaN  1.000000  20000.0  1782378629   \n",
       "2                       False     NaN  1.000000  15000.0  2076142479   \n",
       "3                       False     NaN  1.000000   2000.0  1416797221   \n",
       "4                       False     NaN  1.000000    800.0  1708708142   \n",
       "...                       ...     ...       ...      ...         ...   \n",
       "192014                  False     NaN  1.000000  12000.0   184006593   \n",
       "192015                  False     NaN  1.291356   3000.0   554269494   \n",
       "192016                  False     NaN  1.000000   7000.0   298523622   \n",
       "192017                  False     NaN  1.000000   7000.0  1809751208   \n",
       "192018                  False     NaN  0.755744  20000.0   603128214   \n",
       "\n",
       "       is_backing  is_starrable is_starred  launched_at  \\\n",
       "0             NaN         False        NaN   1580433192   \n",
       "1             NaN         False        NaN   1447526057   \n",
       "2             NaN         False        NaN   1518208887   \n",
       "3             NaN         False        NaN   1454705444   \n",
       "4             NaN         False        NaN   1573236000   \n",
       "...           ...           ...        ...          ...   \n",
       "192014        NaN         False        NaN   1551280330   \n",
       "192015        NaN         False        NaN   1373010340   \n",
       "192016        NaN         False        NaN   1468532998   \n",
       "192017        NaN         False        NaN   1449775173   \n",
       "192018        NaN         False        NaN   1579038852   \n",
       "\n",
       "                                                 location  \\\n",
       "0       {\"id\":12589335,\"name\":\"Brooklyn\",\"slug\":\"brook...   \n",
       "1       {\"id\":2487889,\"name\":\"San Diego\",\"slug\":\"san-d...   \n",
       "2       {\"id\":2442047,\"name\":\"Los Angeles\",\"slug\":\"los...   \n",
       "3       {\"id\":2391279,\"name\":\"Denver\",\"slug\":\"denver-c...   \n",
       "4       {\"id\":2474209,\"name\":\"Pleasanton\",\"slug\":\"plea...   \n",
       "...                                                   ...   \n",
       "192014  {\"id\":2514815,\"name\":\"Washington\",\"slug\":\"wash...   \n",
       "192015  {\"id\":44418,\"name\":\"London\",\"slug\":\"london-gb\"...   \n",
       "192016  {\"id\":2453173,\"name\":\"Montclair\",\"slug\":\"montc...   \n",
       "192017  {\"id\":2379574,\"name\":\"Chicago\",\"slug\":\"chicago...   \n",
       "192018  {\"id\":850928,\"name\":\"Vidovec\",\"slug\":\"vidovec-...   \n",
       "\n",
       "                                                     name permissions  \\\n",
       "0                                   Revisionist History 2         NaN   \n",
       "1       JinBucha: A Modern Kombucha tasting room in No...         NaN   \n",
       "2                        Tea Room Cafe - Daily & Herb Tea         NaN   \n",
       "3                    HELP TWO BROTHERS OPEN A FOOD TRUCK!         NaN   \n",
       "4               Son the Frog Plushie Keychain + JUICY Pin         NaN   \n",
       "...                                                   ...         ...   \n",
       "192014                             Live from the Deadside         NaN   \n",
       "192015                         The Fur Trap book & record         NaN   \n",
       "192016  Sonder: Debut Progressive Metal EP by Chris Sopko         NaN   \n",
       "192017                                Icons Unmasked Book         NaN   \n",
       "192018                         Forestation Transformation         NaN   \n",
       "\n",
       "                                                    photo   pledged  \\\n",
       "0       {\"key\":\"assets/027/785/229/436e3e732fb36a494fe...   4618.00   \n",
       "1       {\"key\":\"assets/012/291/675/7fb6348cc8cb988e243...   3461.00   \n",
       "2       {\"key\":\"assets/020/178/062/a5fae29636630f332e0...      0.00   \n",
       "3       {\"key\":\"assets/012/368/128/1784842b814ce9a6660...     25.00   \n",
       "4       {\"key\":\"assets/027/120/236/7d088ddbc3b3f156741...   3275.00   \n",
       "...                                                   ...       ...   \n",
       "192014  {\"key\":\"assets/024/168/654/6849dc64fb47e5327ae...  24237.00   \n",
       "192015  {\"key\":\"assets/011/489/720/2df7b8cdce40a6c94de...   3298.00   \n",
       "192016  {\"key\":\"assets/012/998/531/869f6deed98aa109591...    739.00   \n",
       "192017  {\"key\":\"assets/012/319/353/5ca912d957d6f71adb1...  49471.00   \n",
       "192018  {\"key\":\"assets/027/726/759/ed9a349b3846411a35c...     13.29   \n",
       "\n",
       "                                                  profile  \\\n",
       "0       {\"id\":3914215,\"project_id\":3914215,\"state\":\"in...   \n",
       "1       {\"id\":2198010,\"project_id\":2198010,\"state\":\"in...   \n",
       "2       {\"id\":3304826,\"project_id\":3304826,\"state\":\"in...   \n",
       "3       {\"id\":2349147,\"project_id\":2349147,\"state\":\"in...   \n",
       "4       {\"id\":3834865,\"project_id\":3834865,\"state\":\"ac...   \n",
       "...                                                   ...   \n",
       "192014  {\"id\":3674266,\"project_id\":3674266,\"state\":\"in...   \n",
       "192015  {\"id\":491723,\"project_id\":491723,\"state\":\"inac...   \n",
       "192016  {\"id\":2568246,\"project_id\":2568246,\"state\":\"in...   \n",
       "192017  {\"id\":2251609,\"project_id\":2251609,\"state\":\"ac...   \n",
       "192018  {\"id\":3909003,\"project_id\":3909003,\"state\":\"in...   \n",
       "\n",
       "                                                     slug  \\\n",
       "0                                   revisionist-history-2   \n",
       "1       jinbucha-a-modern-kombucha-tasting-room-in-nor...   \n",
       "2                        tea-room-cafe-daily-and-herb-tea   \n",
       "3                     help-two-brothers-open-a-food-truck   \n",
       "4                 son-the-frog-plushie-keychain-juicy-pin   \n",
       "...                                                   ...   \n",
       "192014                             live-from-the-deadside   \n",
       "192015                       the-fur-trap-book-and-record   \n",
       "192016   sonder-debut-progressive-metal-ep-by-chris-sopko   \n",
       "192017                                icons-unmasked-book   \n",
       "192018                       forestation-transformation-0   \n",
       "\n",
       "                                               source_url  spotlight  \\\n",
       "0       https://www.kickstarter.com/discover/categorie...       True   \n",
       "1       https://www.kickstarter.com/discover/categorie...      False   \n",
       "2       https://www.kickstarter.com/discover/categorie...      False   \n",
       "3       https://www.kickstarter.com/discover/categorie...      False   \n",
       "4       https://www.kickstarter.com/discover/categorie...       True   \n",
       "...                                                   ...        ...   \n",
       "192014  https://www.kickstarter.com/discover/categorie...       True   \n",
       "192015  https://www.kickstarter.com/discover/categorie...       True   \n",
       "192016  https://www.kickstarter.com/discover/categorie...      False   \n",
       "192017  https://www.kickstarter.com/discover/categorie...       True   \n",
       "192018  https://www.kickstarter.com/discover/categorie...      False   \n",
       "\n",
       "        staff_pick       state  state_changed_at  static_usd_rate  \\\n",
       "0             True  successful        1583025192         1.000000   \n",
       "1             True      failed        1450118057         1.000000   \n",
       "2            False      failed        1520233260         1.000000   \n",
       "3            False      failed        1459885844         1.000000   \n",
       "4            False  successful        1574445600         1.000000   \n",
       "...            ...         ...               ...              ...   \n",
       "192014        True  successful        1553893202         1.000000   \n",
       "192015        True  successful        1376120740         1.526377   \n",
       "192016        True      failed        1471124998         1.000000   \n",
       "192017        True  successful        1452367174         1.000000   \n",
       "192018       False      failed        1584219254         0.766406   \n",
       "\n",
       "                                                     urls   usd_pledged  \\\n",
       "0       {\"web\":{\"project\":\"https://www.kickstarter.com...   4618.000000   \n",
       "1       {\"web\":{\"project\":\"https://www.kickstarter.com...   3461.000000   \n",
       "2       {\"web\":{\"project\":\"https://www.kickstarter.com...      0.000000   \n",
       "3       {\"web\":{\"project\":\"https://www.kickstarter.com...     25.000000   \n",
       "4       {\"web\":{\"project\":\"https://www.kickstarter.com...   3275.000000   \n",
       "...                                                   ...           ...   \n",
       "192014  {\"web\":{\"project\":\"https://www.kickstarter.com...  24237.000000   \n",
       "192015  {\"web\":{\"project\":\"https://www.kickstarter.com...   5033.992434   \n",
       "192016  {\"web\":{\"project\":\"https://www.kickstarter.com...    739.000000   \n",
       "192017  {\"web\":{\"project\":\"https://www.kickstarter.com...  49471.000000   \n",
       "192018  {\"web\":{\"project\":\"https://www.kickstarter.com...     10.185531   \n",
       "\n",
       "        usd_type  \n",
       "0       domestic  \n",
       "1       domestic  \n",
       "2       domestic  \n",
       "3       domestic  \n",
       "4       domestic  \n",
       "...          ...  \n",
       "192014  domestic  \n",
       "192015  domestic  \n",
       "192016  domestic  \n",
       "192017  domestic  \n",
       "192018  domestic  \n",
       "\n",
       "[192019 rows x 38 columns]"
      ]
     },
     "execution_count": 8,
     "metadata": {},
     "output_type": "execute_result"
    }
   ],
   "source": [
    "df.drop_duplicates(subset = 'id',keep = 'first',inplace = True)\n",
    "df.reset_index(drop = True) "
   ]
  },
  {
   "cell_type": "code",
   "execution_count": 9,
   "metadata": {
    "colab": {
     "base_uri": "https://localhost:8080/"
    },
    "id": "0hpvQ96IZ0UF",
    "outputId": "ec8d3ddc-6b46-457d-fb6b-9a9f90bb5942"
   },
   "outputs": [
    {
     "data": {
      "text/plain": [
       "(192019, 38)"
      ]
     },
     "execution_count": 9,
     "metadata": {},
     "output_type": "execute_result"
    }
   ],
   "source": [
    "df.shape"
   ]
  },
  {
   "cell_type": "code",
   "execution_count": 10,
   "metadata": {
    "colab": {
     "base_uri": "https://localhost:8080/"
    },
    "id": "u2Phlh26Z0UM",
    "outputId": "39e668af-bc4f-47fe-8999-fe8b289ad946",
    "scrolled": true
   },
   "outputs": [
    {
     "data": {
      "text/plain": [
       "backers_count                    0\n",
       "blurb                            8\n",
       "category                         0\n",
       "converted_pledged_amount         0\n",
       "country                          0\n",
       "country_displayable_name         0\n",
       "created_at                       0\n",
       "creator                          0\n",
       "currency                         0\n",
       "currency_symbol                  0\n",
       "currency_trailing_code           0\n",
       "current_currency                 0\n",
       "deadline                         0\n",
       "disable_communication            0\n",
       "friends                     191932\n",
       "fx_rate                          0\n",
       "goal                             0\n",
       "id                               0\n",
       "is_backing                  191932\n",
       "is_starrable                     0\n",
       "is_starred                  191932\n",
       "launched_at                      0\n",
       "location                       213\n",
       "name                             0\n",
       "permissions                 191932\n",
       "photo                            0\n",
       "pledged                          0\n",
       "profile                          0\n",
       "slug                             0\n",
       "source_url                       0\n",
       "spotlight                        0\n",
       "staff_pick                       0\n",
       "state                            0\n",
       "state_changed_at                 0\n",
       "static_usd_rate                  0\n",
       "urls                             0\n",
       "usd_pledged                      0\n",
       "usd_type                       166\n",
       "dtype: int64"
      ]
     },
     "execution_count": 10,
     "metadata": {},
     "output_type": "execute_result"
    }
   ],
   "source": [
    "df.isnull().sum()"
   ]
  },
  {
   "cell_type": "markdown",
   "metadata": {
    "id": "t4ni6NnrZ0UP"
   },
   "source": [
    "#### Droping columns and nan values\n",
    "#### 1.) There are around 99.8% missing values for friends, is_backing, is_starred, permissions and friends columns. Hence, dropping those columns\n",
    "#### 2.) Removing the rows for 8 projects for which there is no project name.\n",
    "#### 3.) Also, dropping creator, currency, currency_symbol, currency_trailing_code, fx_rate, disable_communication, id, location_json, photo, profile, slug, source_url, usd_type columns because those columns are not having much information to do analysis"
   ]
  },
  {
   "cell_type": "code",
   "execution_count": 11,
   "metadata": {
    "id": "U9SzaTEZZ0UQ",
    "scrolled": true
   },
   "outputs": [],
   "source": [
    "df.drop(['is_backing','current_currency','is_starred','permissions','friends','creator', 'currency', 'currency_symbol', 'currency_trailing_code', 'disable_communication', 'id', 'fx_rate', 'photo', 'profile', 'urls','slug', 'country_displayable_name','location','source_url', 'usd_type'], axis = 1, inplace = True)"
   ]
  },
  {
   "cell_type": "code",
   "execution_count": 12,
   "metadata": {
    "colab": {
     "base_uri": "https://localhost:8080/",
     "height": 547
    },
    "id": "C-6las0ZZ0US",
    "outputId": "dba1b518-1bba-47ce-c95c-8897f38f7549"
   },
   "outputs": [
    {
     "data": {
      "text/html": [
       "<div>\n",
       "<style scoped>\n",
       "    .dataframe tbody tr th:only-of-type {\n",
       "        vertical-align: middle;\n",
       "    }\n",
       "\n",
       "    .dataframe tbody tr th {\n",
       "        vertical-align: top;\n",
       "    }\n",
       "\n",
       "    .dataframe thead th {\n",
       "        text-align: right;\n",
       "    }\n",
       "</style>\n",
       "<table border=\"1\" class=\"dataframe\">\n",
       "  <thead>\n",
       "    <tr style=\"text-align: right;\">\n",
       "      <th></th>\n",
       "      <th>backers_count</th>\n",
       "      <th>blurb</th>\n",
       "      <th>category</th>\n",
       "      <th>converted_pledged_amount</th>\n",
       "      <th>country</th>\n",
       "      <th>created_at</th>\n",
       "      <th>deadline</th>\n",
       "      <th>goal</th>\n",
       "      <th>is_starrable</th>\n",
       "      <th>launched_at</th>\n",
       "      <th>name</th>\n",
       "      <th>pledged</th>\n",
       "      <th>spotlight</th>\n",
       "      <th>staff_pick</th>\n",
       "      <th>state</th>\n",
       "      <th>state_changed_at</th>\n",
       "      <th>static_usd_rate</th>\n",
       "      <th>usd_pledged</th>\n",
       "    </tr>\n",
       "  </thead>\n",
       "  <tbody>\n",
       "    <tr>\n",
       "      <th>0</th>\n",
       "      <td>61</td>\n",
       "      <td>Support great art! Join us as we re-stage the ...</td>\n",
       "      <td>{\"id\":254,\"name\":\"Performances\",\"slug\":\"dance/...</td>\n",
       "      <td>4618</td>\n",
       "      <td>US</td>\n",
       "      <td>1579292017</td>\n",
       "      <td>1583025192</td>\n",
       "      <td>3000.0</td>\n",
       "      <td>False</td>\n",
       "      <td>1580433192</td>\n",
       "      <td>Revisionist History 2</td>\n",
       "      <td>4618.0</td>\n",
       "      <td>True</td>\n",
       "      <td>True</td>\n",
       "      <td>successful</td>\n",
       "      <td>1583025192</td>\n",
       "      <td>1.0</td>\n",
       "      <td>4618.0</td>\n",
       "    </tr>\n",
       "    <tr>\n",
       "      <th>1</th>\n",
       "      <td>52</td>\n",
       "      <td>JinBucha is a new kind of Brewery in North Par...</td>\n",
       "      <td>{\"id\":307,\"name\":\"Drinks\",\"slug\":\"food/drinks\"...</td>\n",
       "      <td>3461</td>\n",
       "      <td>US</td>\n",
       "      <td>1446051515</td>\n",
       "      <td>1450118057</td>\n",
       "      <td>20000.0</td>\n",
       "      <td>False</td>\n",
       "      <td>1447526057</td>\n",
       "      <td>JinBucha: A Modern Kombucha tasting room in No...</td>\n",
       "      <td>3461.0</td>\n",
       "      <td>False</td>\n",
       "      <td>True</td>\n",
       "      <td>failed</td>\n",
       "      <td>1450118057</td>\n",
       "      <td>1.0</td>\n",
       "      <td>3461.0</td>\n",
       "    </tr>\n",
       "    <tr>\n",
       "      <th>2</th>\n",
       "      <td>0</td>\n",
       "      <td>\"Taste The Scent of Tea\" Rose and Blanc Tea Ro...</td>\n",
       "      <td>{\"id\":307,\"name\":\"Drinks\",\"slug\":\"food/drinks\"...</td>\n",
       "      <td>0</td>\n",
       "      <td>US</td>\n",
       "      <td>1518159717</td>\n",
       "      <td>1520233260</td>\n",
       "      <td>15000.0</td>\n",
       "      <td>False</td>\n",
       "      <td>1518208887</td>\n",
       "      <td>Tea Room Cafe - Daily &amp; Herb Tea</td>\n",
       "      <td>0.0</td>\n",
       "      <td>False</td>\n",
       "      <td>False</td>\n",
       "      <td>failed</td>\n",
       "      <td>1520233260</td>\n",
       "      <td>1.0</td>\n",
       "      <td>0.0</td>\n",
       "    </tr>\n",
       "    <tr>\n",
       "      <th>3</th>\n",
       "      <td>2</td>\n",
       "      <td>Bringing Philly cheesesteaks (and other delici...</td>\n",
       "      <td>{\"id\":311,\"name\":\"Food Trucks\",\"slug\":\"food/fo...</td>\n",
       "      <td>25</td>\n",
       "      <td>US</td>\n",
       "      <td>1454217596</td>\n",
       "      <td>1459885844</td>\n",
       "      <td>2000.0</td>\n",
       "      <td>False</td>\n",
       "      <td>1454705444</td>\n",
       "      <td>HELP TWO BROTHERS OPEN A FOOD TRUCK!</td>\n",
       "      <td>25.0</td>\n",
       "      <td>False</td>\n",
       "      <td>False</td>\n",
       "      <td>failed</td>\n",
       "      <td>1459885844</td>\n",
       "      <td>1.0</td>\n",
       "      <td>25.0</td>\n",
       "    </tr>\n",
       "    <tr>\n",
       "      <th>4</th>\n",
       "      <td>150</td>\n",
       "      <td>a frog plushie keychain and frog butt pin for ...</td>\n",
       "      <td>{\"id\":28,\"name\":\"Product Design\",\"slug\":\"desig...</td>\n",
       "      <td>3275</td>\n",
       "      <td>US</td>\n",
       "      <td>1571342290</td>\n",
       "      <td>1574445600</td>\n",
       "      <td>800.0</td>\n",
       "      <td>False</td>\n",
       "      <td>1573236000</td>\n",
       "      <td>Son the Frog Plushie Keychain + JUICY Pin</td>\n",
       "      <td>3275.0</td>\n",
       "      <td>True</td>\n",
       "      <td>False</td>\n",
       "      <td>successful</td>\n",
       "      <td>1574445600</td>\n",
       "      <td>1.0</td>\n",
       "      <td>3275.0</td>\n",
       "    </tr>\n",
       "  </tbody>\n",
       "</table>\n",
       "</div>"
      ],
      "text/plain": [
       "   backers_count                                              blurb  \\\n",
       "0             61  Support great art! Join us as we re-stage the ...   \n",
       "1             52  JinBucha is a new kind of Brewery in North Par...   \n",
       "2              0  \"Taste The Scent of Tea\" Rose and Blanc Tea Ro...   \n",
       "3              2  Bringing Philly cheesesteaks (and other delici...   \n",
       "4            150  a frog plushie keychain and frog butt pin for ...   \n",
       "\n",
       "                                            category  \\\n",
       "0  {\"id\":254,\"name\":\"Performances\",\"slug\":\"dance/...   \n",
       "1  {\"id\":307,\"name\":\"Drinks\",\"slug\":\"food/drinks\"...   \n",
       "2  {\"id\":307,\"name\":\"Drinks\",\"slug\":\"food/drinks\"...   \n",
       "3  {\"id\":311,\"name\":\"Food Trucks\",\"slug\":\"food/fo...   \n",
       "4  {\"id\":28,\"name\":\"Product Design\",\"slug\":\"desig...   \n",
       "\n",
       "   converted_pledged_amount country  created_at    deadline     goal  \\\n",
       "0                      4618      US  1579292017  1583025192   3000.0   \n",
       "1                      3461      US  1446051515  1450118057  20000.0   \n",
       "2                         0      US  1518159717  1520233260  15000.0   \n",
       "3                        25      US  1454217596  1459885844   2000.0   \n",
       "4                      3275      US  1571342290  1574445600    800.0   \n",
       "\n",
       "   is_starrable  launched_at  \\\n",
       "0         False   1580433192   \n",
       "1         False   1447526057   \n",
       "2         False   1518208887   \n",
       "3         False   1454705444   \n",
       "4         False   1573236000   \n",
       "\n",
       "                                                name  pledged  spotlight  \\\n",
       "0                              Revisionist History 2   4618.0       True   \n",
       "1  JinBucha: A Modern Kombucha tasting room in No...   3461.0      False   \n",
       "2                   Tea Room Cafe - Daily & Herb Tea      0.0      False   \n",
       "3               HELP TWO BROTHERS OPEN A FOOD TRUCK!     25.0      False   \n",
       "4          Son the Frog Plushie Keychain + JUICY Pin   3275.0       True   \n",
       "\n",
       "   staff_pick       state  state_changed_at  static_usd_rate  usd_pledged  \n",
       "0        True  successful        1583025192              1.0       4618.0  \n",
       "1        True      failed        1450118057              1.0       3461.0  \n",
       "2       False      failed        1520233260              1.0          0.0  \n",
       "3       False      failed        1459885844              1.0         25.0  \n",
       "4       False  successful        1574445600              1.0       3275.0  "
      ]
     },
     "execution_count": 12,
     "metadata": {},
     "output_type": "execute_result"
    }
   ],
   "source": [
    "df = df[df['blurb'].notna()]\n",
    "df.reset_index(drop= True,inplace = True)\n",
    "df.head()"
   ]
  },
  {
   "cell_type": "markdown",
   "metadata": {
    "id": "YvbrtsCvZ0UV"
   },
   "source": [
    "#### Representing the goal amount in the USD currency format"
   ]
  },
  {
   "cell_type": "code",
   "execution_count": 13,
   "metadata": {
    "id": "zu_1HTWSZ0UV"
   },
   "outputs": [],
   "source": [
    "df['usd_goal'] = round(df['goal'] * df['static_usd_rate'], 2)"
   ]
  },
  {
   "cell_type": "markdown",
   "metadata": {
    "id": "bXedCTxqZ0UX"
   },
   "source": [
    "#### Converting the Unix time stamp to standard timestamp"
   ]
  },
  {
   "cell_type": "code",
   "execution_count": 14,
   "metadata": {
    "id": "RIgal4xiZ0UY"
   },
   "outputs": [],
   "source": [
    "df['created_at'] = pd.to_datetime(df['created_at'], unit='s')\n",
    "df['launched_at'] = pd.to_datetime(df['launched_at'], unit='s')\n",
    "df['deadline'] = pd.to_datetime(df['deadline'], unit='s')\n",
    "df['state_changed_at'] = pd.to_datetime(df['state_changed_at'], unit='s')"
   ]
  },
  {
   "cell_type": "code",
   "execution_count": 15,
   "metadata": {
    "id": "93_Di2DlXg-P"
   },
   "outputs": [],
   "source": [
    "df['launch_to_deadline'] = df['deadline'] - df['launched_at']\n",
    "df['launch_to_deadline'] = df['launch_to_deadline'].dt.round('d').dt.days\n",
    "\n",
    "df['creation_to_launch'] = df['launched_at'] - df['created_at']\n",
    "df['creation_to_launch'] = df['creation_to_launch'].dt.round('d').dt.days\n",
    "\n",
    "df['launch_year'] = df['launched_at'].dt.year\n",
    "df['launch_month'] = df['launched_at'].dt.month\n",
    "\n",
    "df['deadline_year'] = df['launched_at'].dt.year\n",
    "df['deadline_month'] = df['deadline'].dt.month"
   ]
  },
  {
   "cell_type": "markdown",
   "metadata": {
    "id": "DcogLtUQXg-P"
   },
   "source": [
    "#### Extracting the main_category column"
   ]
  },
  {
   "cell_type": "code",
   "execution_count": 16,
   "metadata": {
    "id": "58Jj8Wm0Xg-P"
   },
   "outputs": [],
   "source": [
    "json_list = []    # Extracting the sub-category names of the projects\n",
    "for i in range(len(df)):\n",
    "    json_list.append(json.loads(df['category'][i]))\n",
    "\n",
    "# json_list[0]['parent_name']\n",
    "\n",
    "category = []\n",
    "for i in range(len(json_list)):\n",
    "    category.append(json_list[i]['name'])\n",
    "\n",
    "df.rename(columns={'category':'category_json', 'location': 'location_json'}, inplace=True)\n",
    "\n",
    "df['category'] = category # Adding sub-category name column as category to the dataframe\n",
    "\n",
    "main_category = []   # Extracting the main-category names of the projects\n",
    "for i in range(len(json_list)):\n",
    "    main_category.append(json_list[i].get('parent_name', 'None'))\n",
    "\n",
    "df['main_category'] = main_category  # Adding main-category name column as main-category to the dataframe\n",
    "\n",
    "df.drop(['category_json'], axis=1, inplace=True)\n",
    "df.reset_index(inplace = True)\n",
    "for i in range(0,len(df)):\n",
    "    if df.loc[i,'main_category']=='None':\n",
    "        df.loc[i,'main_category'] = df.loc[i,'category']"
   ]
  },
  {
   "cell_type": "markdown",
   "metadata": {
    "id": "xQdwYaoRd6Hz"
   },
   "source": [
    "#### Exculding the live and cancelled projects for the analysis"
   ]
  },
  {
   "cell_type": "code",
   "execution_count": 17,
   "metadata": {
    "id": "mWbJNhRxdz_e"
   },
   "outputs": [],
   "source": [
    "df = df[(df['state'] != 'live') & (df['state'] !='canceled')]\n",
    "viz_df = df.copy()"
   ]
  },
  {
   "cell_type": "markdown",
   "metadata": {
    "id": "olziRWs0Z0Ua"
   },
   "source": [
    "# Data Exploration"
   ]
  },
  {
   "cell_type": "markdown",
   "metadata": {
    "id": "H06R80FUcd5l"
   },
   "source": [
    "Out of all projects in kickstarters around 55% of projects were successful, 40% of projects failed and remaining 5% projects were cancelled"
   ]
  },
  {
   "cell_type": "code",
   "execution_count": 18,
   "metadata": {
    "colab": {
     "base_uri": "https://localhost:8080/",
     "height": 338
    },
    "id": "lghrQ03HcdZ6",
    "outputId": "47f9ad5e-c083-4e9d-e9aa-257e3a7813ae"
   },
   "outputs": [
    {
     "data": {
      "text/plain": [
       "<AxesSubplot:xlabel='state'>"
      ]
     },
     "execution_count": 18,
     "metadata": {},
     "output_type": "execute_result"
    },
    {
     "data": {
      "image/png": "[encoded data removed]",
      "text/plain": [
       "<Figure size 432x288 with 1 Axes>"
      ]
     },
     "metadata": {
      "needs_background": "light"
     },
     "output_type": "display_data"
    }
   ],
   "source": [
    "viz_df.groupby('state').staff_pick.count().plot(kind = 'bar', color = ['midnightblue','firebrick'])"
   ]
  },
  {
   "cell_type": "markdown",
   "metadata": {
    "id": "u9r8VdODhwQj"
   },
   "source": [
    "#### Examining dates of creation, launch, and deadline of campaigns"
   ]
  },
  {
   "cell_type": "markdown",
   "metadata": {
    "id": "CrRxNNRHjDO1"
   },
   "source": [
    "#### Comparing campaign creation and launch dates"
   ]
  },
  {
   "cell_type": "code",
   "execution_count": 19,
   "metadata": {
    "colab": {
     "base_uri": "https://localhost:8080/",
     "height": 297
    },
    "id": "76VXKr9miFnL",
    "outputId": "ef6c8feb-5e1b-4368-9bfa-5e83a0fa3916"
   },
   "outputs": [
    {
     "data": {
      "text/plain": [
       "<AxesSubplot:xlabel='creation_to_launch', ylabel='Count'>"
      ]
     },
     "execution_count": 19,
     "metadata": {},
     "output_type": "execute_result"
    },
    {
     "data": {
      "image/png": "[encoded data removed]",
      "text/plain": [
       "<Figure size 432x288 with 1 Axes>"
      ]
     },
     "metadata": {
      "needs_background": "light"
     },
     "output_type": "display_data"
    }
   ],
   "source": [
    "bins = [_*5 for _ in range(0,20)]\n",
    "sns.histplot(viz_df['creation_to_launch'], bins = bins )"
   ]
  },
  {
   "cell_type": "markdown",
   "metadata": {
    "id": "c2hV_jlyjPne"
   },
   "source": [
    "We see that, most of the time, creating and launching a kickstarter campaign happens on the same day! The distribution is basically an exponential one that approaches 0 as the number of days increases."
   ]
  },
  {
   "cell_type": "markdown",
   "metadata": {
    "id": "UxAYJrlYjZQJ"
   },
   "source": [
    "#### Examining how many days are present, on average, between a campaign launch and its deadline"
   ]
  },
  {
   "cell_type": "code",
   "execution_count": 20,
   "metadata": {
    "colab": {
     "base_uri": "https://localhost:8080/",
     "height": 295
    },
    "id": "AiQ2W2DSjTlJ",
    "outputId": "be0f9768-5596-4125-c459-c4aa6c458560"
   },
   "outputs": [
    {
     "data": {
      "image/png": "[encoded data removed]",
      "text/plain": [
       "<Figure size 432x288 with 1 Axes>"
      ]
     },
     "metadata": {
      "needs_background": "light"
     },
     "output_type": "display_data"
    }
   ],
   "source": [
    "plt.title('Number of days between launch and deadline')\n",
    "plt.hist(viz_df['launch_to_deadline'], bins = [0,10,20,30,40,50,60,70])\n",
    "plt.xlabel('Number of days');\n",
    "plt.ylabel('Frequency');"
   ]
  },
  {
   "cell_type": "markdown",
   "metadata": {
    "id": "3xcBmkbWjjYA"
   },
   "source": [
    "We see that, on average, most campaigns have a month (between 30 and 40 days) between when they launch and when they set their deadline. This allows for momentum to be maintained and for people to bid immediately rather than losing steam."
   ]
  },
  {
   "cell_type": "markdown",
   "metadata": {
    "id": "BNQJEJRakLDh"
   },
   "source": [
    "#### Examining campaign launch dates"
   ]
  },
  {
   "cell_type": "code",
   "execution_count": 21,
   "metadata": {
    "colab": {
     "base_uri": "https://localhost:8080/",
     "height": 295
    },
    "id": "oPGrkWEcjYdM",
    "outputId": "5c29c3e3-37b9-43bb-ec6c-97bfa5fd8922"
   },
   "outputs": [
    {
     "data": {
      "image/png": "[encoded data removed]",
      "text/plain": [
       "<Figure size 432x288 with 1 Axes>"
      ]
     },
     "metadata": {
      "needs_background": "light"
     },
     "output_type": "display_data"
    }
   ],
   "source": [
    "plt.title('Number of campaign launches by year')\n",
    "viz_df['launch_year'].value_counts(sort=False).plot(kind='bar', rot=0);\n",
    "plt.xlabel('Year');\n",
    "plt.ylabel('Frequency');"
   ]
  },
  {
   "cell_type": "markdown",
   "metadata": {
    "id": "nO3FyBAwkXR1"
   },
   "source": [
    "We see that 2015 saw the greatest number of Kickstarter campaigns being launched. The number of campaigns launched from 2016-2020 outnumbers the number of campaigns from 2009-2014. This makes sense because Kickstarter began only in 2009 and needed a few years to become popular and establish itself as a good medium to use for crowdsourcing."
   ]
  },
  {
   "cell_type": "code",
   "execution_count": 22,
   "metadata": {
    "colab": {
     "base_uri": "https://localhost:8080/",
     "height": 281
    },
    "id": "eI3DTBmdjmX9",
    "outputId": "6f8e50c0-4fbc-4aa7-b9e2-8c99d504098b"
   },
   "outputs": [
    {
     "data": {
      "image/png": "[encoded data removed]",
      "text/plain": [
       "<Figure size 432x288 with 1 Axes>"
      ]
     },
     "metadata": {
      "needs_background": "light"
     },
     "output_type": "display_data"
    }
   ],
   "source": [
    "plt.title('Number of campaign launches by month')\n",
    "viz_df['launch_month'].value_counts(sort=False).plot(kind='bar',rot=0);"
   ]
  },
  {
   "cell_type": "markdown",
   "metadata": {
    "id": "w40fBFDak1sz"
   },
   "source": [
    "We see that July sees the greatest number of launches and December sees the fewest. Overall, several months have >15000 launches.\n"
   ]
  },
  {
   "cell_type": "code",
   "execution_count": 23,
   "metadata": {
    "colab": {
     "base_uri": "https://localhost:8080/",
     "height": 295
    },
    "id": "TK2bFwAJjqVd",
    "outputId": "3165e024-2d0b-4599-ef6e-82fb91a0c77a"
   },
   "outputs": [
    {
     "data": {
      "image/png": "[encoded data removed]",
      "text/plain": [
       "<Figure size 432x288 with 1 Axes>"
      ]
     },
     "metadata": {
      "needs_background": "light"
     },
     "output_type": "display_data"
    }
   ],
   "source": [
    "plt.title('Number of campaign deadlines by year')\n",
    "viz_df['deadline_year'].value_counts(sort=False).plot(kind='bar', rot=0);\n",
    "plt.xlabel('Year');\n",
    "plt.ylabel('Frequency');"
   ]
  },
  {
   "cell_type": "markdown",
   "metadata": {
    "id": "2bswwwnSmcXh"
   },
   "source": [
    "We see that the maximum number of campaign deadlines was in 2015. This makes sense since we know that the maximum number of launches was in 2015 and the average period of time between a campaign launch and its deadline is between 30 and 40 days."
   ]
  },
  {
   "cell_type": "code",
   "execution_count": 24,
   "metadata": {
    "colab": {
     "base_uri": "https://localhost:8080/",
     "height": 295
    },
    "id": "UQMm0NBdlfh-",
    "outputId": "42a9fa3c-65e1-42c8-b305-856f175f9e3d"
   },
   "outputs": [
    {
     "data": {
      "image/png": "[encoded data removed]",
      "text/plain": [
       "<Figure size 432x288 with 1 Axes>"
      ]
     },
     "metadata": {
      "needs_background": "light"
     },
     "output_type": "display_data"
    }
   ],
   "source": [
    "plt.title('Number of campaign deadlines by month')\n",
    "viz_df['deadline_month'].value_counts(sort=False).plot(kind='bar', rot=0);\n",
    "plt.xlabel('Month');\n",
    "plt.ylabel('Frequency');"
   ]
  },
  {
   "cell_type": "markdown",
   "metadata": {
    "id": "QDcTqmPsmum0"
   },
   "source": [
    "The maximum number of campaign deadlines is in August. We can use the same logic as above to understand it - most campaign begin in July and since they take around 30 days on average to end, we can foresee that most campaigns will end in August."
   ]
  },
  {
   "cell_type": "code",
   "execution_count": null,
   "metadata": {
    "id": "OIXZ3GD2mr4s"
   },
   "outputs": [],
   "source": []
  },
  {
   "cell_type": "markdown",
   "metadata": {
    "id": "SvJ7_FY5kT8w"
   },
   "source": [
    "#### Staff Picked projects Exploratory Analysis"
   ]
  },
  {
   "cell_type": "markdown",
   "metadata": {
    "id": "jFupqZZGeetN"
   },
   "source": [
    "If a project is picked by staff, there is only around 10% chance of failure of the project whereas, there is almost 45% chance of failure\n",
    "\n",
    "The average no of backers for staff picked projects are almost 8 times high when compared to the projects not picked by staff\n",
    "\n",
    "The median goal and pledged amount for staff picked projects are around 10,000 USD"
   ]
  },
  {
   "cell_type": "code",
   "execution_count": 25,
   "metadata": {
    "colab": {
     "base_uri": "https://localhost:8080/",
     "height": 872
    },
    "id": "qnv3uuw_c87y",
    "outputId": "bbd56f78-e9e7-4038-b2c7-f2fed94c6456"
   },
   "outputs": [
    {
     "data": {
      "text/plain": [
       "(0.0, 12000.0)"
      ]
     },
     "execution_count": 25,
     "metadata": {},
     "output_type": "execute_result"
    },
    {
     "data": {
      "image/png": "[encoded data removed]",
      "text/plain": [
       "<Figure size 1440x1008 with 4 Axes>"
      ]
     },
     "metadata": {
      "needs_background": "light"
     },
     "output_type": "display_data"
    }
   ],
   "source": [
    "fig, ((ax1, ax2),(ax3, ax4)) = plt.subplots(2, 2, figsize=(20,14))\n",
    "pick_df = pd.get_dummies(viz_df.set_index('staff_pick').state).groupby('staff_pick').sum()\n",
    "pick_df.plot(kind = 'bar', ax = ax1, color=['firebrick', 'seagreen'])\n",
    "ax1.set_title('Success/Failed based on staff_pick')\n",
    "\n",
    "viz_df.groupby('staff_pick').backers_count.median().plot(kind = 'bar', ax = ax2, color = ['firebrick', 'seagreen'])\n",
    "ax2.set_title('Median Backers count')\n",
    "ax2.set_ylim(0,160)\n",
    "\n",
    "viz_df.groupby('staff_pick').usd_goal.median().plot(kind = 'bar', ax = ax3, color = ['firebrick', 'seagreen'])\n",
    "ax3.set_title('Median Goal Amount')\n",
    "ax3.set_ylim(0,20000)\n",
    "\n",
    "viz_df.groupby('staff_pick').usd_pledged.median().plot(kind = 'bar', ax = ax4, color = ['firebrick', 'seagreen'])\n",
    "ax4.set_title('Median pledged Amount')\n",
    "ax4.set_ylim(0,12000)"
   ]
  },
  {
   "cell_type": "markdown",
   "metadata": {
    "id": "j1D60BJkEmce"
   },
   "source": [
    "Generating word cloud based for blurb"
   ]
  },
  {
   "cell_type": "code",
   "execution_count": 26,
   "metadata": {
    "id": "SHBfhagz74E1"
   },
   "outputs": [],
   "source": [
    "from wordcloud import WordCloud,STOPWORDS,ImageColorGenerator"
   ]
  },
  {
   "cell_type": "code",
   "execution_count": 27,
   "metadata": {
    "id": "vNpDHrSp8Dkz"
   },
   "outputs": [],
   "source": [
    "text = \" \".join(desc for desc in viz_df.blurb)"
   ]
  },
  {
   "cell_type": "code",
   "execution_count": 28,
   "metadata": {
    "id": "c4drM2jnDhPs"
   },
   "outputs": [],
   "source": [
    "stopwords = set(STOPWORDS)\n",
    "stopwords.add('want')\n",
    "stopwords.add('will')\n",
    "stopwords.add('made')\n",
    "stopwords.add('need')"
   ]
  },
  {
   "cell_type": "code",
   "execution_count": 29,
   "metadata": {
    "colab": {
     "base_uri": "https://localhost:8080/",
     "height": 215
    },
    "id": "f38h8bhX_jrF",
    "outputId": "feb1042d-bd54-4a9a-90f9-32c24752afdf"
   },
   "outputs": [
    {
     "name": "stdout",
     "output_type": "stream",
     "text": [
      "Word Cloud of blurb for all projects\n"
     ]
    },
    {
     "data": {
      "image/png": "[encoded data removed]",
      "text/plain": [
       "<Figure size 432x288 with 1 Axes>"
      ]
     },
     "metadata": {
      "needs_background": "light"
     },
     "output_type": "display_data"
    }
   ],
   "source": [
    "print(\"Word Cloud of blurb for all projects\")\n",
    "wordcloud = WordCloud(stopwords=stopwords).generate(text)\n",
    "plt.imshow(wordcloud, interpolation='bilinear')\n",
    "plt.axis(\"off\")\n",
    "plt.show()"
   ]
  },
  {
   "cell_type": "code",
   "execution_count": 30,
   "metadata": {
    "id": "606zje6V_-n_"
   },
   "outputs": [],
   "source": [
    "success = \" \".join(desc for desc in viz_df[viz_df[\"state\"]=='successful'].blurb)\n",
    "fail = \" \".join(desc for desc in viz_df[viz_df[\"state\"]=='failed'].blurb)"
   ]
  },
  {
   "cell_type": "code",
   "execution_count": 31,
   "metadata": {
    "colab": {
     "base_uri": "https://localhost:8080/",
     "height": 215
    },
    "id": "U8nFPsuoCLTe",
    "outputId": "fb37ad25-34b3-429a-fc89-b2c7074f02be"
   },
   "outputs": [
    {
     "name": "stdout",
     "output_type": "stream",
     "text": [
      "Word cloud of blurb for successful projects\n"
     ]
    },
    {
     "data": {
      "image/png": "[encoded data removed]",
      "text/plain": [
       "<Figure size 432x288 with 1 Axes>"
      ]
     },
     "metadata": {
      "needs_background": "light"
     },
     "output_type": "display_data"
    }
   ],
   "source": [
    "print(\"Word cloud of blurb for successful projects\")\n",
    "wordcloud = WordCloud(stopwords=stopwords).generate(success)\n",
    "plt.imshow(wordcloud, interpolation='bilinear')\n",
    "plt.axis(\"off\")\n",
    "plt.show()\n"
   ]
  },
  {
   "cell_type": "code",
   "execution_count": 32,
   "metadata": {
    "colab": {
     "base_uri": "https://localhost:8080/",
     "height": 215
    },
    "id": "yAgnjlTTCp0R",
    "outputId": "bd012aeb-7806-4743-91b2-7616c72ab190"
   },
   "outputs": [
    {
     "name": "stdout",
     "output_type": "stream",
     "text": [
      "Word cloud of blurb for failed projects\n"
     ]
    },
    {
     "data": {
      "image/png": "[encoded data removed]",
      "text/plain": [
       "<Figure size 432x288 with 1 Axes>"
      ]
     },
     "metadata": {
      "needs_background": "light"
     },
     "output_type": "display_data"
    }
   ],
   "source": [
    "print(\"Word cloud of blurb for failed projects\")\n",
    "wordcloud = WordCloud(stopwords=stopwords).generate(fail)\n",
    "plt.imshow(wordcloud, interpolation='bilinear')\n",
    "plt.axis(\"off\")\n",
    "plt.show()\n"
   ]
  },
  {
   "cell_type": "code",
   "execution_count": 33,
   "metadata": {
    "id": "OweTIsWKD2LB"
   },
   "outputs": [],
   "source": [
    "# df.drop(columns=['level_0','index','backers_count', 'converted_pledged_amount', 'country_displayable_name','current_currency', 'goal', 'pledged', 'state_changed_at','static_usd_rate','urls','usd_pledged'],inplace = True)"
   ]
  },
  {
   "cell_type": "markdown",
   "metadata": {
    "id": "1RD06ULIWvfM"
   },
   "source": [
    "**NLP on Blurb**\n",
    "\n",
    "Objective: to use natural language processing to analyze the project blurb descriptions, here using TextBlob and SentimentIntensityAnalyzer from the NLTK package"
   ]
  },
  {
   "cell_type": "code",
   "execution_count": 34,
   "metadata": {
    "id": "YL6G0StfWzs2"
   },
   "outputs": [],
   "source": [
    "from textblob import TextBlob\n",
    "import nltk"
   ]
  },
  {
   "cell_type": "code",
   "execution_count": 35,
   "metadata": {
    "id": "pkfmuNH2XKxZ"
   },
   "outputs": [
    {
     "name": "stderr",
     "output_type": "stream",
     "text": [
      "[nltk_data] Downloading package vader_lexicon to\n",
      "[nltk_data]     C:\\Users\\saina\\AppData\\Roaming\\nltk_data...\n",
      "[nltk_data]   Package vader_lexicon is already up-to-date!\n"
     ]
    }
   ],
   "source": [
    "nltk.download('vader_lexicon')\n",
    "from nltk.sentiment.vader import SentimentIntensityAnalyzer\n",
    "sid = SentimentIntensityAnalyzer()"
   ]
  },
  {
   "cell_type": "markdown",
   "metadata": {
    "id": "43AtxxcQXbSy"
   },
   "source": [
    "New columns are created to store the sentiment polarity, sentiment subjectivity, length, and sentiment intensity score for each project description/blurb, using TextBlob as well as SentimentIntensityAnalyzer from the NLTK package."
   ]
  },
  {
   "cell_type": "code",
   "execution_count": 36,
   "metadata": {
    "id": "I6pQHGVfXMNV"
   },
   "outputs": [],
   "source": [
    "df.reset_index(drop = True, inplace = True)\n",
    "df['polarity'] = 0.0\n",
    "df['subjectivity'] = 0.0\n",
    "df['blurb_length'] = 0\n",
    "df['sentiment_intensity'] = 0.0"
   ]
  },
  {
   "cell_type": "code",
   "execution_count": 37,
   "metadata": {
    "id": "1J_ikZw-aJAs"
   },
   "outputs": [
    {
     "name": "stderr",
     "output_type": "stream",
     "text": [
      "[nltk_data] Downloading package stopwords to\n",
      "[nltk_data]     C:\\Users\\saina\\AppData\\Roaming\\nltk_data...\n",
      "[nltk_data]   Package stopwords is already up-to-date!\n"
     ]
    },
    {
     "data": {
      "text/plain": [
       "True"
      ]
     },
     "execution_count": 37,
     "metadata": {},
     "output_type": "execute_result"
    }
   ],
   "source": [
    "nltk.download('stopwords')"
   ]
  },
  {
   "cell_type": "markdown",
   "metadata": {
    "id": "qxdoEFs6LcF3"
   },
   "source": [
    "* Combining Project name and blurb cloumns into a single column to do sentimental analysis.\n",
    "* Removing stopwords and puntuations.\n",
    "* Finding Polarity, Subjectivity, sentement intensity for each project."
   ]
  },
  {
   "cell_type": "code",
   "execution_count": 38,
   "metadata": {
    "id": "deQ6B9lUX-yh"
   },
   "outputs": [],
   "source": [
    "from nltk.corpus import stopwords\n",
    "import re\n",
    "import string\n",
    "def remove_stopwords(text):\n",
    "    final_text = []\n",
    "    for i in text.split():\n",
    "        if i.strip().lower() not in stop:\n",
    "            final_text.append(i.strip())\n",
    "    return \" \".join(final_text)\n",
    "stop = set(stopwords.words('english'))\n",
    "for i in range(len(df)):\n",
    "    blurb = df['name'][i]+df['blurb'][i]\n",
    "    blurb = blurb.lower()\n",
    "    blurb = remove_stopwords(blurb)\n",
    "    blurb = re.sub('\\[.*?\\]', '', blurb)\n",
    "    blurb = re.sub('[%s]' % re.escape(string.punctuation), '', blurb)\n",
    "    blurb = re.sub('\\w*\\d\\w*', '', blurb)\n",
    "    blurb = re.sub('[‘’“”…]', '', blurb)\n",
    "    if isinstance(blurb, str) :\n",
    "        blob = TextBlob(blurb)\n",
    "        df.loc[i,'polarity'] = blob.sentiment.polarity\n",
    "        df.loc[i,'subjectivity'] = blob.sentiment.subjectivity\n",
    "        df.loc[i,'blurb_length'] = len(blurb)\n",
    "        df.loc[i,'sentiment_intensity'] = sid.polarity_scores(blurb)['compound']"
   ]
  },
  {
   "cell_type": "code",
   "execution_count": 39,
   "metadata": {
    "id": "9jmqwPmDXg-T"
   },
   "outputs": [],
   "source": [
    "df.to_pickle(\"df_pickle.pkl\") # Converting to pickle format"
   ]
  },
  {
   "cell_type": "code",
   "execution_count": 41,
   "metadata": {
    "id": "XA48H68lXg-T"
   },
   "outputs": [],
   "source": [
    "df = pd.read_pickle(\"df_pickle.pkl\")"
   ]
  },
  {
   "cell_type": "code",
   "execution_count": 42,
   "metadata": {
    "id": "1ZNkeKakY-P1"
   },
   "outputs": [
    {
     "data": {
      "text/html": [
       "<div>\n",
       "<style scoped>\n",
       "    .dataframe tbody tr th:only-of-type {\n",
       "        vertical-align: middle;\n",
       "    }\n",
       "\n",
       "    .dataframe tbody tr th {\n",
       "        vertical-align: top;\n",
       "    }\n",
       "\n",
       "    .dataframe thead th {\n",
       "        text-align: right;\n",
       "    }\n",
       "</style>\n",
       "<table border=\"1\" class=\"dataframe\">\n",
       "  <thead>\n",
       "    <tr style=\"text-align: right;\">\n",
       "      <th></th>\n",
       "      <th>index</th>\n",
       "      <th>backers_count</th>\n",
       "      <th>blurb</th>\n",
       "      <th>converted_pledged_amount</th>\n",
       "      <th>country</th>\n",
       "      <th>created_at</th>\n",
       "      <th>deadline</th>\n",
       "      <th>goal</th>\n",
       "      <th>is_starrable</th>\n",
       "      <th>launched_at</th>\n",
       "      <th>name</th>\n",
       "      <th>pledged</th>\n",
       "      <th>spotlight</th>\n",
       "      <th>staff_pick</th>\n",
       "      <th>state</th>\n",
       "      <th>state_changed_at</th>\n",
       "      <th>static_usd_rate</th>\n",
       "      <th>usd_pledged</th>\n",
       "      <th>usd_goal</th>\n",
       "      <th>launch_to_deadline</th>\n",
       "      <th>creation_to_launch</th>\n",
       "      <th>launch_year</th>\n",
       "      <th>launch_month</th>\n",
       "      <th>deadline_year</th>\n",
       "      <th>deadline_month</th>\n",
       "      <th>category</th>\n",
       "      <th>main_category</th>\n",
       "      <th>polarity</th>\n",
       "      <th>subjectivity</th>\n",
       "      <th>blurb_length</th>\n",
       "      <th>sentiment_intensity</th>\n",
       "    </tr>\n",
       "  </thead>\n",
       "  <tbody>\n",
       "    <tr>\n",
       "      <th>0</th>\n",
       "      <td>0</td>\n",
       "      <td>61</td>\n",
       "      <td>Support great art! Join us as we re-stage the ...</td>\n",
       "      <td>4618</td>\n",
       "      <td>US</td>\n",
       "      <td>2020-01-17 20:13:37</td>\n",
       "      <td>2020-03-01 01:13:12</td>\n",
       "      <td>3000.0</td>\n",
       "      <td>False</td>\n",
       "      <td>2020-01-31 01:13:12</td>\n",
       "      <td>Revisionist History 2</td>\n",
       "      <td>4618.0</td>\n",
       "      <td>True</td>\n",
       "      <td>True</td>\n",
       "      <td>successful</td>\n",
       "      <td>2020-03-01 01:13:12</td>\n",
       "      <td>1.0</td>\n",
       "      <td>4618.0</td>\n",
       "      <td>3000.0</td>\n",
       "      <td>30</td>\n",
       "      <td>13</td>\n",
       "      <td>2020</td>\n",
       "      <td>1</td>\n",
       "      <td>2020</td>\n",
       "      <td>3</td>\n",
       "      <td>Performances</td>\n",
       "      <td>Dance</td>\n",
       "      <td>0.650000</td>\n",
       "      <td>0.625000</td>\n",
       "      <td>95</td>\n",
       "      <td>0.7430</td>\n",
       "    </tr>\n",
       "    <tr>\n",
       "      <th>1</th>\n",
       "      <td>1</td>\n",
       "      <td>52</td>\n",
       "      <td>JinBucha is a new kind of Brewery in North Par...</td>\n",
       "      <td>3461</td>\n",
       "      <td>US</td>\n",
       "      <td>2015-10-28 16:58:35</td>\n",
       "      <td>2015-12-14 18:34:17</td>\n",
       "      <td>20000.0</td>\n",
       "      <td>False</td>\n",
       "      <td>2015-11-14 18:34:17</td>\n",
       "      <td>JinBucha: A Modern Kombucha tasting room in No...</td>\n",
       "      <td>3461.0</td>\n",
       "      <td>False</td>\n",
       "      <td>True</td>\n",
       "      <td>failed</td>\n",
       "      <td>2015-12-14 18:34:17</td>\n",
       "      <td>1.0</td>\n",
       "      <td>3461.0</td>\n",
       "      <td>20000.0</td>\n",
       "      <td>30</td>\n",
       "      <td>17</td>\n",
       "      <td>2015</td>\n",
       "      <td>11</td>\n",
       "      <td>2015</td>\n",
       "      <td>12</td>\n",
       "      <td>Drinks</td>\n",
       "      <td>Food</td>\n",
       "      <td>0.272727</td>\n",
       "      <td>0.450758</td>\n",
       "      <td>158</td>\n",
       "      <td>0.5267</td>\n",
       "    </tr>\n",
       "    <tr>\n",
       "      <th>2</th>\n",
       "      <td>2</td>\n",
       "      <td>0</td>\n",
       "      <td>\"Taste The Scent of Tea\" Rose and Blanc Tea Ro...</td>\n",
       "      <td>0</td>\n",
       "      <td>US</td>\n",
       "      <td>2018-02-09 07:01:57</td>\n",
       "      <td>2018-03-05 07:01:00</td>\n",
       "      <td>15000.0</td>\n",
       "      <td>False</td>\n",
       "      <td>2018-02-09 20:41:27</td>\n",
       "      <td>Tea Room Cafe - Daily &amp; Herb Tea</td>\n",
       "      <td>0.0</td>\n",
       "      <td>False</td>\n",
       "      <td>False</td>\n",
       "      <td>failed</td>\n",
       "      <td>2018-03-05 07:01:00</td>\n",
       "      <td>1.0</td>\n",
       "      <td>0.0</td>\n",
       "      <td>15000.0</td>\n",
       "      <td>23</td>\n",
       "      <td>1</td>\n",
       "      <td>2018</td>\n",
       "      <td>2</td>\n",
       "      <td>2018</td>\n",
       "      <td>3</td>\n",
       "      <td>Drinks</td>\n",
       "      <td>Food</td>\n",
       "      <td>0.300000</td>\n",
       "      <td>0.475000</td>\n",
       "      <td>98</td>\n",
       "      <td>0.0000</td>\n",
       "    </tr>\n",
       "    <tr>\n",
       "      <th>3</th>\n",
       "      <td>3</td>\n",
       "      <td>2</td>\n",
       "      <td>Bringing Philly cheesesteaks (and other delici...</td>\n",
       "      <td>25</td>\n",
       "      <td>US</td>\n",
       "      <td>2016-01-31 05:19:56</td>\n",
       "      <td>2016-04-05 19:50:44</td>\n",
       "      <td>2000.0</td>\n",
       "      <td>False</td>\n",
       "      <td>2016-02-05 20:50:44</td>\n",
       "      <td>HELP TWO BROTHERS OPEN A FOOD TRUCK!</td>\n",
       "      <td>25.0</td>\n",
       "      <td>False</td>\n",
       "      <td>False</td>\n",
       "      <td>failed</td>\n",
       "      <td>2016-04-05 19:50:44</td>\n",
       "      <td>1.0</td>\n",
       "      <td>25.0</td>\n",
       "      <td>2000.0</td>\n",
       "      <td>60</td>\n",
       "      <td>6</td>\n",
       "      <td>2016</td>\n",
       "      <td>2</td>\n",
       "      <td>2016</td>\n",
       "      <td>4</td>\n",
       "      <td>Food Trucks</td>\n",
       "      <td>Food</td>\n",
       "      <td>0.309091</td>\n",
       "      <td>0.600000</td>\n",
       "      <td>117</td>\n",
       "      <td>0.7506</td>\n",
       "    </tr>\n",
       "    <tr>\n",
       "      <th>4</th>\n",
       "      <td>4</td>\n",
       "      <td>150</td>\n",
       "      <td>a frog plushie keychain and frog butt pin for ...</td>\n",
       "      <td>3275</td>\n",
       "      <td>US</td>\n",
       "      <td>2019-10-17 19:58:10</td>\n",
       "      <td>2019-11-22 18:00:00</td>\n",
       "      <td>800.0</td>\n",
       "      <td>False</td>\n",
       "      <td>2019-11-08 18:00:00</td>\n",
       "      <td>Son the Frog Plushie Keychain + JUICY Pin</td>\n",
       "      <td>3275.0</td>\n",
       "      <td>True</td>\n",
       "      <td>False</td>\n",
       "      <td>successful</td>\n",
       "      <td>2019-11-22 18:00:00</td>\n",
       "      <td>1.0</td>\n",
       "      <td>3275.0</td>\n",
       "      <td>800.0</td>\n",
       "      <td>14</td>\n",
       "      <td>22</td>\n",
       "      <td>2019</td>\n",
       "      <td>11</td>\n",
       "      <td>2019</td>\n",
       "      <td>11</td>\n",
       "      <td>Product Design</td>\n",
       "      <td>Design</td>\n",
       "      <td>-0.050000</td>\n",
       "      <td>0.150000</td>\n",
       "      <td>94</td>\n",
       "      <td>-0.2023</td>\n",
       "    </tr>\n",
       "  </tbody>\n",
       "</table>\n",
       "</div>"
      ],
      "text/plain": [
       "   index  backers_count                                              blurb  \\\n",
       "0      0             61  Support great art! Join us as we re-stage the ...   \n",
       "1      1             52  JinBucha is a new kind of Brewery in North Par...   \n",
       "2      2              0  \"Taste The Scent of Tea\" Rose and Blanc Tea Ro...   \n",
       "3      3              2  Bringing Philly cheesesteaks (and other delici...   \n",
       "4      4            150  a frog plushie keychain and frog butt pin for ...   \n",
       "\n",
       "   converted_pledged_amount country          created_at            deadline  \\\n",
       "0                      4618      US 2020-01-17 20:13:37 2020-03-01 01:13:12   \n",
       "1                      3461      US 2015-10-28 16:58:35 2015-12-14 18:34:17   \n",
       "2                         0      US 2018-02-09 07:01:57 2018-03-05 07:01:00   \n",
       "3                        25      US 2016-01-31 05:19:56 2016-04-05 19:50:44   \n",
       "4                      3275      US 2019-10-17 19:58:10 2019-11-22 18:00:00   \n",
       "\n",
       "      goal  is_starrable         launched_at  \\\n",
       "0   3000.0         False 2020-01-31 01:13:12   \n",
       "1  20000.0         False 2015-11-14 18:34:17   \n",
       "2  15000.0         False 2018-02-09 20:41:27   \n",
       "3   2000.0         False 2016-02-05 20:50:44   \n",
       "4    800.0         False 2019-11-08 18:00:00   \n",
       "\n",
       "                                                name  pledged  spotlight  \\\n",
       "0                              Revisionist History 2   4618.0       True   \n",
       "1  JinBucha: A Modern Kombucha tasting room in No...   3461.0      False   \n",
       "2                   Tea Room Cafe - Daily & Herb Tea      0.0      False   \n",
       "3               HELP TWO BROTHERS OPEN A FOOD TRUCK!     25.0      False   \n",
       "4          Son the Frog Plushie Keychain + JUICY Pin   3275.0       True   \n",
       "\n",
       "   staff_pick       state    state_changed_at  static_usd_rate  usd_pledged  \\\n",
       "0        True  successful 2020-03-01 01:13:12              1.0       4618.0   \n",
       "1        True      failed 2015-12-14 18:34:17              1.0       3461.0   \n",
       "2       False      failed 2018-03-05 07:01:00              1.0          0.0   \n",
       "3       False      failed 2016-04-05 19:50:44              1.0         25.0   \n",
       "4       False  successful 2019-11-22 18:00:00              1.0       3275.0   \n",
       "\n",
       "   usd_goal  launch_to_deadline  creation_to_launch  launch_year  \\\n",
       "0    3000.0                  30                  13         2020   \n",
       "1   20000.0                  30                  17         2015   \n",
       "2   15000.0                  23                   1         2018   \n",
       "3    2000.0                  60                   6         2016   \n",
       "4     800.0                  14                  22         2019   \n",
       "\n",
       "   launch_month  deadline_year  deadline_month        category main_category  \\\n",
       "0             1           2020               3    Performances         Dance   \n",
       "1            11           2015              12          Drinks          Food   \n",
       "2             2           2018               3          Drinks          Food   \n",
       "3             2           2016               4     Food Trucks          Food   \n",
       "4            11           2019              11  Product Design        Design   \n",
       "\n",
       "   polarity  subjectivity  blurb_length  sentiment_intensity  \n",
       "0  0.650000      0.625000            95               0.7430  \n",
       "1  0.272727      0.450758           158               0.5267  \n",
       "2  0.300000      0.475000            98               0.0000  \n",
       "3  0.309091      0.600000           117               0.7506  \n",
       "4 -0.050000      0.150000            94              -0.2023  "
      ]
     },
     "execution_count": 42,
     "metadata": {},
     "output_type": "execute_result"
    }
   ],
   "source": [
    "df.head()"
   ]
  },
  {
   "cell_type": "code",
   "execution_count": 43,
   "metadata": {
    "id": "yvq4eHs4Xg-T"
   },
   "outputs": [],
   "source": [
    "from sklearn.preprocessing import MinMaxScaler\n",
    "def preprocessing (df):\n",
    "    df.drop(columns= ['backers_count','blurb','converted_pledged_amount','created_at','deadline_year','launch_year','deadline','goal','is_starrable','launched_at','name','pledged','spotlight','staff_pick','state_changed_at','static_usd_rate','usd_pledged'],axis = 1,inplace = True)\n",
    "    df['launch_qtr'] = pd.cut(df['launch_month'], bins=[0,3,6,9,12], labels=['Q1', 'Q2', 'Q3', 'Q4']) # binning the months to Q1, Q2, Q3, Q4\n",
    "    df['deadline_qtr'] = pd.cut(df['deadline_month'], bins=[0,3,6,9,12], labels=['Q1', 'Q2', 'Q3', 'Q4']) # binning the months to Q1, Q2, Q3, Q4\n",
    "    df = pd.get_dummies(df,columns = ['launch_qtr','deadline_qtr'], drop_first = True) \n",
    "    # Frequency encoding for country and main category features\n",
    "    country_map = df['country'].value_counts().to_dict()\n",
    "    mc_map = df['main_category'].value_counts().to_dict()\n",
    "    df['encoded_country'] = df['country'].map(country_map)\n",
    "    df['encoded_main_cat'] = df['main_category'].map(mc_map)\n",
    "    df['encoded_country'] = df['encoded_country']/len(df)\n",
    "    df['encoded_main_cat'] = df['encoded_main_cat']/len(df)\n",
    "    # Encoding launch_to_deadline and creation_to_launch features\n",
    "    ld_map = df['launch_to_deadline'].value_counts().to_dict()\n",
    "    lc_map = df['creation_to_launch'].value_counts().to_dict()\n",
    "    df['encode_launch_deadline'] = df['launch_to_deadline'].map(ld_map)\n",
    "    df['encoded_creation_launch'] = df['creation_to_launch'].map(lc_map)\n",
    "    df['encode_launch_deadline'] = df['encode_launch_deadline']/len(df)\n",
    "    df['encoded_creation_launch'] = df['encoded_creation_launch']/len(df)\n",
    "    # Scaling the usd_goal feature using min-max scaler\n",
    "    min_ = df['usd_goal'].min()\n",
    "    max_ = df['usd_goal'].max()\n",
    "    df['scaled_used_goal'] = df['usd_goal'].map(lambda x: (x-min_)/(max_- min_))\n",
    "    df.drop(columns=['usd_goal','launch_to_deadline','creation_to_launch','country','category','launch_month','deadline_month','main_category'],axis = 1, inplace = True)\n",
    "    return df"
   ]
  },
  {
   "cell_type": "code",
   "execution_count": 44,
   "metadata": {
    "id": "MfKFBUi8Xg-U"
   },
   "outputs": [],
   "source": [
    "df.drop(columns = ['index'], axis = 1,inplace = True)\n",
    "df.reset_index(drop = True,inplace = True)\n",
    "df['state'].replace({'failed': 0, 'successful': 1},inplace = True)"
   ]
  },
  {
   "cell_type": "code",
   "execution_count": 45,
   "metadata": {
    "id": "e2XPFb03ZKyq"
   },
   "outputs": [
    {
     "data": {
      "text/html": [
       "<div>\n",
       "<style scoped>\n",
       "    .dataframe tbody tr th:only-of-type {\n",
       "        vertical-align: middle;\n",
       "    }\n",
       "\n",
       "    .dataframe tbody tr th {\n",
       "        vertical-align: top;\n",
       "    }\n",
       "\n",
       "    .dataframe thead th {\n",
       "        text-align: right;\n",
       "    }\n",
       "</style>\n",
       "<table border=\"1\" class=\"dataframe\">\n",
       "  <thead>\n",
       "    <tr style=\"text-align: right;\">\n",
       "      <th></th>\n",
       "      <th>backers_count</th>\n",
       "      <th>blurb</th>\n",
       "      <th>converted_pledged_amount</th>\n",
       "      <th>country</th>\n",
       "      <th>created_at</th>\n",
       "      <th>deadline</th>\n",
       "      <th>goal</th>\n",
       "      <th>is_starrable</th>\n",
       "      <th>launched_at</th>\n",
       "      <th>name</th>\n",
       "      <th>pledged</th>\n",
       "      <th>spotlight</th>\n",
       "      <th>staff_pick</th>\n",
       "      <th>state</th>\n",
       "      <th>state_changed_at</th>\n",
       "      <th>static_usd_rate</th>\n",
       "      <th>usd_pledged</th>\n",
       "      <th>usd_goal</th>\n",
       "      <th>launch_to_deadline</th>\n",
       "      <th>creation_to_launch</th>\n",
       "      <th>launch_year</th>\n",
       "      <th>launch_month</th>\n",
       "      <th>deadline_year</th>\n",
       "      <th>deadline_month</th>\n",
       "      <th>category</th>\n",
       "      <th>main_category</th>\n",
       "      <th>polarity</th>\n",
       "      <th>subjectivity</th>\n",
       "      <th>blurb_length</th>\n",
       "      <th>sentiment_intensity</th>\n",
       "    </tr>\n",
       "  </thead>\n",
       "  <tbody>\n",
       "    <tr>\n",
       "      <th>0</th>\n",
       "      <td>61</td>\n",
       "      <td>Support great art! Join us as we re-stage the ...</td>\n",
       "      <td>4618</td>\n",
       "      <td>US</td>\n",
       "      <td>2020-01-17 20:13:37</td>\n",
       "      <td>2020-03-01 01:13:12</td>\n",
       "      <td>3000.0</td>\n",
       "      <td>False</td>\n",
       "      <td>2020-01-31 01:13:12</td>\n",
       "      <td>Revisionist History 2</td>\n",
       "      <td>4618.0</td>\n",
       "      <td>True</td>\n",
       "      <td>True</td>\n",
       "      <td>1</td>\n",
       "      <td>2020-03-01 01:13:12</td>\n",
       "      <td>1.0</td>\n",
       "      <td>4618.0</td>\n",
       "      <td>3000.0</td>\n",
       "      <td>30</td>\n",
       "      <td>13</td>\n",
       "      <td>2020</td>\n",
       "      <td>1</td>\n",
       "      <td>2020</td>\n",
       "      <td>3</td>\n",
       "      <td>Performances</td>\n",
       "      <td>Dance</td>\n",
       "      <td>0.650000</td>\n",
       "      <td>0.625000</td>\n",
       "      <td>95</td>\n",
       "      <td>0.7430</td>\n",
       "    </tr>\n",
       "    <tr>\n",
       "      <th>1</th>\n",
       "      <td>52</td>\n",
       "      <td>JinBucha is a new kind of Brewery in North Par...</td>\n",
       "      <td>3461</td>\n",
       "      <td>US</td>\n",
       "      <td>2015-10-28 16:58:35</td>\n",
       "      <td>2015-12-14 18:34:17</td>\n",
       "      <td>20000.0</td>\n",
       "      <td>False</td>\n",
       "      <td>2015-11-14 18:34:17</td>\n",
       "      <td>JinBucha: A Modern Kombucha tasting room in No...</td>\n",
       "      <td>3461.0</td>\n",
       "      <td>False</td>\n",
       "      <td>True</td>\n",
       "      <td>0</td>\n",
       "      <td>2015-12-14 18:34:17</td>\n",
       "      <td>1.0</td>\n",
       "      <td>3461.0</td>\n",
       "      <td>20000.0</td>\n",
       "      <td>30</td>\n",
       "      <td>17</td>\n",
       "      <td>2015</td>\n",
       "      <td>11</td>\n",
       "      <td>2015</td>\n",
       "      <td>12</td>\n",
       "      <td>Drinks</td>\n",
       "      <td>Food</td>\n",
       "      <td>0.272727</td>\n",
       "      <td>0.450758</td>\n",
       "      <td>158</td>\n",
       "      <td>0.5267</td>\n",
       "    </tr>\n",
       "    <tr>\n",
       "      <th>2</th>\n",
       "      <td>0</td>\n",
       "      <td>\"Taste The Scent of Tea\" Rose and Blanc Tea Ro...</td>\n",
       "      <td>0</td>\n",
       "      <td>US</td>\n",
       "      <td>2018-02-09 07:01:57</td>\n",
       "      <td>2018-03-05 07:01:00</td>\n",
       "      <td>15000.0</td>\n",
       "      <td>False</td>\n",
       "      <td>2018-02-09 20:41:27</td>\n",
       "      <td>Tea Room Cafe - Daily &amp; Herb Tea</td>\n",
       "      <td>0.0</td>\n",
       "      <td>False</td>\n",
       "      <td>False</td>\n",
       "      <td>0</td>\n",
       "      <td>2018-03-05 07:01:00</td>\n",
       "      <td>1.0</td>\n",
       "      <td>0.0</td>\n",
       "      <td>15000.0</td>\n",
       "      <td>23</td>\n",
       "      <td>1</td>\n",
       "      <td>2018</td>\n",
       "      <td>2</td>\n",
       "      <td>2018</td>\n",
       "      <td>3</td>\n",
       "      <td>Drinks</td>\n",
       "      <td>Food</td>\n",
       "      <td>0.300000</td>\n",
       "      <td>0.475000</td>\n",
       "      <td>98</td>\n",
       "      <td>0.0000</td>\n",
       "    </tr>\n",
       "    <tr>\n",
       "      <th>3</th>\n",
       "      <td>2</td>\n",
       "      <td>Bringing Philly cheesesteaks (and other delici...</td>\n",
       "      <td>25</td>\n",
       "      <td>US</td>\n",
       "      <td>2016-01-31 05:19:56</td>\n",
       "      <td>2016-04-05 19:50:44</td>\n",
       "      <td>2000.0</td>\n",
       "      <td>False</td>\n",
       "      <td>2016-02-05 20:50:44</td>\n",
       "      <td>HELP TWO BROTHERS OPEN A FOOD TRUCK!</td>\n",
       "      <td>25.0</td>\n",
       "      <td>False</td>\n",
       "      <td>False</td>\n",
       "      <td>0</td>\n",
       "      <td>2016-04-05 19:50:44</td>\n",
       "      <td>1.0</td>\n",
       "      <td>25.0</td>\n",
       "      <td>2000.0</td>\n",
       "      <td>60</td>\n",
       "      <td>6</td>\n",
       "      <td>2016</td>\n",
       "      <td>2</td>\n",
       "      <td>2016</td>\n",
       "      <td>4</td>\n",
       "      <td>Food Trucks</td>\n",
       "      <td>Food</td>\n",
       "      <td>0.309091</td>\n",
       "      <td>0.600000</td>\n",
       "      <td>117</td>\n",
       "      <td>0.7506</td>\n",
       "    </tr>\n",
       "    <tr>\n",
       "      <th>4</th>\n",
       "      <td>150</td>\n",
       "      <td>a frog plushie keychain and frog butt pin for ...</td>\n",
       "      <td>3275</td>\n",
       "      <td>US</td>\n",
       "      <td>2019-10-17 19:58:10</td>\n",
       "      <td>2019-11-22 18:00:00</td>\n",
       "      <td>800.0</td>\n",
       "      <td>False</td>\n",
       "      <td>2019-11-08 18:00:00</td>\n",
       "      <td>Son the Frog Plushie Keychain + JUICY Pin</td>\n",
       "      <td>3275.0</td>\n",
       "      <td>True</td>\n",
       "      <td>False</td>\n",
       "      <td>1</td>\n",
       "      <td>2019-11-22 18:00:00</td>\n",
       "      <td>1.0</td>\n",
       "      <td>3275.0</td>\n",
       "      <td>800.0</td>\n",
       "      <td>14</td>\n",
       "      <td>22</td>\n",
       "      <td>2019</td>\n",
       "      <td>11</td>\n",
       "      <td>2019</td>\n",
       "      <td>11</td>\n",
       "      <td>Product Design</td>\n",
       "      <td>Design</td>\n",
       "      <td>-0.050000</td>\n",
       "      <td>0.150000</td>\n",
       "      <td>94</td>\n",
       "      <td>-0.2023</td>\n",
       "    </tr>\n",
       "  </tbody>\n",
       "</table>\n",
       "</div>"
      ],
      "text/plain": [
       "   backers_count                                              blurb  \\\n",
       "0             61  Support great art! Join us as we re-stage the ...   \n",
       "1             52  JinBucha is a new kind of Brewery in North Par...   \n",
       "2              0  \"Taste The Scent of Tea\" Rose and Blanc Tea Ro...   \n",
       "3              2  Bringing Philly cheesesteaks (and other delici...   \n",
       "4            150  a frog plushie keychain and frog butt pin for ...   \n",
       "\n",
       "   converted_pledged_amount country          created_at            deadline  \\\n",
       "0                      4618      US 2020-01-17 20:13:37 2020-03-01 01:13:12   \n",
       "1                      3461      US 2015-10-28 16:58:35 2015-12-14 18:34:17   \n",
       "2                         0      US 2018-02-09 07:01:57 2018-03-05 07:01:00   \n",
       "3                        25      US 2016-01-31 05:19:56 2016-04-05 19:50:44   \n",
       "4                      3275      US 2019-10-17 19:58:10 2019-11-22 18:00:00   \n",
       "\n",
       "      goal  is_starrable         launched_at  \\\n",
       "0   3000.0         False 2020-01-31 01:13:12   \n",
       "1  20000.0         False 2015-11-14 18:34:17   \n",
       "2  15000.0         False 2018-02-09 20:41:27   \n",
       "3   2000.0         False 2016-02-05 20:50:44   \n",
       "4    800.0         False 2019-11-08 18:00:00   \n",
       "\n",
       "                                                name  pledged  spotlight  \\\n",
       "0                              Revisionist History 2   4618.0       True   \n",
       "1  JinBucha: A Modern Kombucha tasting room in No...   3461.0      False   \n",
       "2                   Tea Room Cafe - Daily & Herb Tea      0.0      False   \n",
       "3               HELP TWO BROTHERS OPEN A FOOD TRUCK!     25.0      False   \n",
       "4          Son the Frog Plushie Keychain + JUICY Pin   3275.0       True   \n",
       "\n",
       "   staff_pick  state    state_changed_at  static_usd_rate  usd_pledged  \\\n",
       "0        True      1 2020-03-01 01:13:12              1.0       4618.0   \n",
       "1        True      0 2015-12-14 18:34:17              1.0       3461.0   \n",
       "2       False      0 2018-03-05 07:01:00              1.0          0.0   \n",
       "3       False      0 2016-04-05 19:50:44              1.0         25.0   \n",
       "4       False      1 2019-11-22 18:00:00              1.0       3275.0   \n",
       "\n",
       "   usd_goal  launch_to_deadline  creation_to_launch  launch_year  \\\n",
       "0    3000.0                  30                  13         2020   \n",
       "1   20000.0                  30                  17         2015   \n",
       "2   15000.0                  23                   1         2018   \n",
       "3    2000.0                  60                   6         2016   \n",
       "4     800.0                  14                  22         2019   \n",
       "\n",
       "   launch_month  deadline_year  deadline_month        category main_category  \\\n",
       "0             1           2020               3    Performances         Dance   \n",
       "1            11           2015              12          Drinks          Food   \n",
       "2             2           2018               3          Drinks          Food   \n",
       "3             2           2016               4     Food Trucks          Food   \n",
       "4            11           2019              11  Product Design        Design   \n",
       "\n",
       "   polarity  subjectivity  blurb_length  sentiment_intensity  \n",
       "0  0.650000      0.625000            95               0.7430  \n",
       "1  0.272727      0.450758           158               0.5267  \n",
       "2  0.300000      0.475000            98               0.0000  \n",
       "3  0.309091      0.600000           117               0.7506  \n",
       "4 -0.050000      0.150000            94              -0.2023  "
      ]
     },
     "execution_count": 45,
     "metadata": {},
     "output_type": "execute_result"
    }
   ],
   "source": [
    "df.head()"
   ]
  },
  {
   "cell_type": "code",
   "execution_count": 46,
   "metadata": {
    "id": "dF03EOdlZIZf"
   },
   "outputs": [],
   "source": [
    "X = df.drop(columns = ['state'],axis = 1)\n",
    "y = df[['state']]\n",
    "from sklearn.model_selection import train_test_split\n",
    "X_train, X_test, y_train, y_test= train_test_split(X,y,test_size = 0.2, random_state = 42)"
   ]
  },
  {
   "cell_type": "code",
   "execution_count": 47,
   "metadata": {
    "id": "_kka6EGyXg-U"
   },
   "outputs": [],
   "source": [
    "import warnings\n",
    "warnings.filterwarnings('ignore')\n",
    "X_train = preprocessing(X_train)\n",
    "X_test = preprocessing(X_test)"
   ]
  },
  {
   "cell_type": "code",
   "execution_count": 48,
   "metadata": {
    "id": "ZfG6dd01Z_qv"
   },
   "outputs": [
    {
     "data": {
      "text/html": [
       "<div>\n",
       "<style scoped>\n",
       "    .dataframe tbody tr th:only-of-type {\n",
       "        vertical-align: middle;\n",
       "    }\n",
       "\n",
       "    .dataframe tbody tr th {\n",
       "        vertical-align: top;\n",
       "    }\n",
       "\n",
       "    .dataframe thead th {\n",
       "        text-align: right;\n",
       "    }\n",
       "</style>\n",
       "<table border=\"1\" class=\"dataframe\">\n",
       "  <thead>\n",
       "    <tr style=\"text-align: right;\">\n",
       "      <th></th>\n",
       "      <th>polarity</th>\n",
       "      <th>subjectivity</th>\n",
       "      <th>blurb_length</th>\n",
       "      <th>sentiment_intensity</th>\n",
       "      <th>launch_qtr_Q2</th>\n",
       "      <th>launch_qtr_Q3</th>\n",
       "      <th>launch_qtr_Q4</th>\n",
       "      <th>deadline_qtr_Q2</th>\n",
       "      <th>deadline_qtr_Q3</th>\n",
       "      <th>deadline_qtr_Q4</th>\n",
       "      <th>encoded_country</th>\n",
       "      <th>encoded_main_cat</th>\n",
       "      <th>encode_launch_deadline</th>\n",
       "      <th>encoded_creation_launch</th>\n",
       "      <th>scaled_used_goal</th>\n",
       "    </tr>\n",
       "  </thead>\n",
       "  <tbody>\n",
       "    <tr>\n",
       "      <th>139014</th>\n",
       "      <td>0.142857</td>\n",
       "      <td>0.267857</td>\n",
       "      <td>105</td>\n",
       "      <td>0.6705</td>\n",
       "      <td>1</td>\n",
       "      <td>0</td>\n",
       "      <td>0</td>\n",
       "      <td>1</td>\n",
       "      <td>0</td>\n",
       "      <td>0</td>\n",
       "      <td>0.699501</td>\n",
       "      <td>0.078010</td>\n",
       "      <td>0.438570</td>\n",
       "      <td>0.005475</td>\n",
       "      <td>0.000328</td>\n",
       "    </tr>\n",
       "    <tr>\n",
       "      <th>9326</th>\n",
       "      <td>0.000000</td>\n",
       "      <td>0.000000</td>\n",
       "      <td>104</td>\n",
       "      <td>0.0000</td>\n",
       "      <td>0</td>\n",
       "      <td>0</td>\n",
       "      <td>1</td>\n",
       "      <td>0</td>\n",
       "      <td>0</td>\n",
       "      <td>1</td>\n",
       "      <td>0.699501</td>\n",
       "      <td>0.107612</td>\n",
       "      <td>0.005523</td>\n",
       "      <td>0.011305</td>\n",
       "      <td>0.000098</td>\n",
       "    </tr>\n",
       "    <tr>\n",
       "      <th>123776</th>\n",
       "      <td>0.400000</td>\n",
       "      <td>0.400000</td>\n",
       "      <td>125</td>\n",
       "      <td>-0.2960</td>\n",
       "      <td>0</td>\n",
       "      <td>1</td>\n",
       "      <td>0</td>\n",
       "      <td>0</td>\n",
       "      <td>0</td>\n",
       "      <td>1</td>\n",
       "      <td>0.699501</td>\n",
       "      <td>0.104617</td>\n",
       "      <td>0.438570</td>\n",
       "      <td>0.006812</td>\n",
       "      <td>0.000049</td>\n",
       "    </tr>\n",
       "    <tr>\n",
       "      <th>149881</th>\n",
       "      <td>0.250000</td>\n",
       "      <td>0.250000</td>\n",
       "      <td>84</td>\n",
       "      <td>0.3612</td>\n",
       "      <td>0</td>\n",
       "      <td>0</td>\n",
       "      <td>1</td>\n",
       "      <td>0</td>\n",
       "      <td>0</td>\n",
       "      <td>1</td>\n",
       "      <td>0.699501</td>\n",
       "      <td>0.140209</td>\n",
       "      <td>0.017608</td>\n",
       "      <td>0.035982</td>\n",
       "      <td>0.000361</td>\n",
       "    </tr>\n",
       "    <tr>\n",
       "      <th>125977</th>\n",
       "      <td>0.500000</td>\n",
       "      <td>1.000000</td>\n",
       "      <td>95</td>\n",
       "      <td>0.7351</td>\n",
       "      <td>0</td>\n",
       "      <td>1</td>\n",
       "      <td>0</td>\n",
       "      <td>0</td>\n",
       "      <td>1</td>\n",
       "      <td>0</td>\n",
       "      <td>0.699501</td>\n",
       "      <td>0.107612</td>\n",
       "      <td>0.438570</td>\n",
       "      <td>0.035982</td>\n",
       "      <td>0.000003</td>\n",
       "    </tr>\n",
       "  </tbody>\n",
       "</table>\n",
       "</div>"
      ],
      "text/plain": [
       "        polarity  subjectivity  blurb_length  sentiment_intensity  \\\n",
       "139014  0.142857      0.267857           105               0.6705   \n",
       "9326    0.000000      0.000000           104               0.0000   \n",
       "123776  0.400000      0.400000           125              -0.2960   \n",
       "149881  0.250000      0.250000            84               0.3612   \n",
       "125977  0.500000      1.000000            95               0.7351   \n",
       "\n",
       "        launch_qtr_Q2  launch_qtr_Q3  launch_qtr_Q4  deadline_qtr_Q2  \\\n",
       "139014              1              0              0                1   \n",
       "9326                0              0              1                0   \n",
       "123776              0              1              0                0   \n",
       "149881              0              0              1                0   \n",
       "125977              0              1              0                0   \n",
       "\n",
       "        deadline_qtr_Q3  deadline_qtr_Q4  encoded_country  encoded_main_cat  \\\n",
       "139014                0                0         0.699501          0.078010   \n",
       "9326                  0                1         0.699501          0.107612   \n",
       "123776                0                1         0.699501          0.104617   \n",
       "149881                0                1         0.699501          0.140209   \n",
       "125977                1                0         0.699501          0.107612   \n",
       "\n",
       "        encode_launch_deadline  encoded_creation_launch  scaled_used_goal  \n",
       "139014                0.438570                 0.005475          0.000328  \n",
       "9326                  0.005523                 0.011305          0.000098  \n",
       "123776                0.438570                 0.006812          0.000049  \n",
       "149881                0.017608                 0.035982          0.000361  \n",
       "125977                0.438570                 0.035982          0.000003  "
      ]
     },
     "execution_count": 48,
     "metadata": {},
     "output_type": "execute_result"
    }
   ],
   "source": [
    "X_train.head(5)"
   ]
  },
  {
   "cell_type": "code",
   "execution_count": 49,
   "metadata": {
    "id": "LIqTkJ0xHCXz"
   },
   "outputs": [],
   "source": [
    "from sklearn.model_selection import RandomizedSearchCV\n",
    "from sklearn.metrics import classification_report\n",
    "from sklearn.metrics import confusion_matrix"
   ]
  },
  {
   "cell_type": "markdown",
   "metadata": {
    "id": "ZApGB9DsBJ1h"
   },
   "source": [
    "# Dummy Classifier:"
   ]
  },
  {
   "cell_type": "code",
   "execution_count": 50,
   "metadata": {
    "id": "R4OxHwA1Burn"
   },
   "outputs": [
    {
     "name": "stdout",
     "output_type": "stream",
     "text": [
      "\n",
      "Classification report:\n",
      "              precision    recall  f1-score   support\n",
      "\n",
      "           0       0.00      0.00      0.00     14885\n",
      "           1       0.59      1.00      0.74     21008\n",
      "\n",
      "    accuracy                           0.59     35893\n",
      "   macro avg       0.29      0.50      0.37     35893\n",
      "weighted avg       0.34      0.59      0.43     35893\n",
      "\n"
     ]
    },
    {
     "data": {
      "text/plain": [
       "0.7384053004340874"
      ]
     },
     "execution_count": 50,
     "metadata": {},
     "output_type": "execute_result"
    }
   ],
   "source": [
    "from sklearn.dummy import DummyClassifier\n",
    "from sklearn.metrics import confusion_matrix,f1_score\n",
    "dummy = DummyClassifier(strategy = 'most_frequent', random_state = 42)\n",
    "dummy.fit(X_train, y_train)\n",
    "# dummy.score(X_test, y_test)\n",
    "y_pred = dummy.predict(X_test)\n",
    "print(\"\\nClassification report:\")\n",
    "print(classification_report(y_test, y_pred))\n",
    "f1_score(y_test, y_pred)"
   ]
  },
  {
   "cell_type": "code",
   "execution_count": 51,
   "metadata": {
    "id": "lm4P1kdrB4Yr"
   },
   "outputs": [
    {
     "name": "stdout",
     "output_type": "stream",
     "text": [
      "Confusion matrix for Dummy Classifier :\n",
      " [[    0 14885]\n",
      " [    0 21008]]\n"
     ]
    }
   ],
   "source": [
    "print(f'Confusion matrix for Dummy Classifier :\\n',confusion_matrix(y_test, y_pred))"
   ]
  },
  {
   "cell_type": "markdown",
   "metadata": {
    "id": "aVvtImJlIFum"
   },
   "source": [
    "# Model: Naive Bayes"
   ]
  },
  {
   "cell_type": "markdown",
   "metadata": {
    "id": "3ees-If6aZZs"
   },
   "source": [
    "Naive Bayes works on the Bayes theorem of probability to predict the target variable. Among all the classification models Naive Bayes model is exte"
   ]
  },
  {
   "cell_type": "code",
   "execution_count": 52,
   "metadata": {
    "id": "BAzyquwtFksO"
   },
   "outputs": [
    {
     "name": "stdout",
     "output_type": "stream",
     "text": [
      "Naive-Bayes accuracy :  0.5959379266152175\n",
      "              precision    recall  f1-score   support\n",
      "\n",
      "           0       0.95      0.03      0.05     14885\n",
      "           1       0.59      1.00      0.74     21008\n",
      "\n",
      "    accuracy                           0.60     35893\n",
      "   macro avg       0.77      0.51      0.40     35893\n",
      "weighted avg       0.74      0.60      0.46     35893\n",
      "\n"
     ]
    },
    {
     "data": {
      "text/plain": [
       "0.743196104471005"
      ]
     },
     "execution_count": 52,
     "metadata": {},
     "output_type": "execute_result"
    }
   ],
   "source": [
    "from sklearn.naive_bayes import GaussianNB\n",
    "from sklearn.naive_bayes import MultinomialNB\n",
    "from sklearn.naive_bayes import BernoulliNB\n",
    "\n",
    "from sklearn.metrics import accuracy_score\n",
    "\n",
    "gnb = GaussianNB()\n",
    "gnb.fit(X_train, y_train)\n",
    "y_pred = gnb.predict(X_test)\n",
    "\n",
    "print(\"Naive-Bayes accuracy : \",accuracy_score(y_test, y_pred, normalize = True))\n",
    "print(classification_report(y_test, y_pred))\n",
    "f1_score(y_test, y_pred)"
   ]
  },
  {
   "cell_type": "code",
   "execution_count": 53,
   "metadata": {
    "id": "OG_G6txWHFsh"
   },
   "outputs": [
    {
     "data": {
      "text/plain": [
       "<AxesSubplot:>"
      ]
     },
     "execution_count": 53,
     "metadata": {},
     "output_type": "execute_result"
    },
    {
     "data": {
      "image/png": "[encoded data removed]",
      "text/plain": [
       "<Figure size 432x288 with 2 Axes>"
      ]
     },
     "metadata": {
      "needs_background": "light"
     },
     "output_type": "display_data"
    }
   ],
   "source": [
    "cf_matrix = confusion_matrix(y_test, y_pred,labels=[0,1])\n",
    "group_names = ['True Pos','False Neg','False Pos','True Neg']\n",
    "group_counts = ['{0:0.0f}'.format(value) for value in\n",
    "                cf_matrix.flatten()]\n",
    "group_percentages = ['{0:.2%}'.format(value) for value in\n",
    "                     cf_matrix.flatten()/np.sum(cf_matrix)]\n",
    "labels = [f'{v1}\\n{v2}\\n{v3}' for v1, v2, v3 in\n",
    "          zip(group_names,group_counts,group_percentages)]\n",
    "labels = np.asarray(labels).reshape(2,2)\n",
    "sns.heatmap(cf_matrix, annot=labels, fmt='', cmap='Blues')"
   ]
  },
  {
   "cell_type": "markdown",
   "metadata": {
    "id": "I_FsAiRARk5Y"
   },
   "source": [
    "The accuracy and f1 score of Naive bayes model is almost same as Dummy model performance. Hence, the Naive bayes model is not performing well for this dataset and not considersing for Ensemble stacking method."
   ]
  },
  {
   "cell_type": "markdown",
   "metadata": {
    "id": "C2t_Jt4w85uT"
   },
   "source": [
    "# Model 1: KNN"
   ]
  },
  {
   "cell_type": "markdown",
   "metadata": {
    "id": "m-RRsra6Brvx"
   },
   "source": [
    "The prediction of a crowdfunding campaign involves two possible outcomes, success and failure,\n",
    "and as such, the prediction task is regarded as binary classification.KNN algorithm is a\n",
    "widely used classifier with high performance on a wide range of real datasets.\n",
    "Principally, KNN works\n",
    "by comparing distance of each data instance in the testing set to all data instances in the training set.\n",
    "Then, for each data instance in the testing set, the K nearest neighbors are examined. The class labels of\n",
    "the majority from the K nearest neighbors is thus taken to be the predicted class label of the respective\n",
    "data instance in the testing set The predicted class of each data instance in the testing set is then\n",
    "compared to its real class label (its hidden class values). The prediction accuracy is then computed by\n",
    "considering the number of times the model is right in prediction. Here we tried different n_neighbour values but the best result was obtained when n is 19 and weights as uniform with minkowski distance."
   ]
  },
  {
   "cell_type": "code",
   "execution_count": 54,
   "metadata": {
    "id": "NPuES3WKSY_o"
   },
   "outputs": [
    {
     "name": "stdout",
     "output_type": "stream",
     "text": [
      "Fitting 3 folds for each of 18 candidates, totalling 54 fits\n"
     ]
    },
    {
     "name": "stderr",
     "output_type": "stream",
     "text": [
      "[Parallel(n_jobs=-1)]: Using backend LokyBackend with 8 concurrent workers.\n",
      "[Parallel(n_jobs=-1)]: Done  25 tasks      | elapsed:   50.5s\n",
      "[Parallel(n_jobs=-1)]: Done  54 out of  54 | elapsed:  1.7min finished\n"
     ]
    },
    {
     "data": {
      "text/plain": [
       "RandomizedSearchCV(cv=3, estimator=KNeighborsClassifier(), n_iter=25, n_jobs=-1,\n",
       "                   param_distributions=[{'n_neighbors': [3, 5, 7, 9, 11, 13, 15,\n",
       "                                                         17, 19],\n",
       "                                         'weights': ['uniform', 'distance']}],\n",
       "                   random_state=42, verbose=2)"
      ]
     },
     "execution_count": 54,
     "metadata": {},
     "output_type": "execute_result"
    }
   ],
   "source": [
    "from sklearn.neighbors import KNeighborsClassifier\n",
    "knn_grid = [    \n",
    "    {'n_neighbors' : [3,5,7,9,11,13,15,17,19],\n",
    "    'weights' : ['uniform','distance']\n",
    "    }\n",
    "]\n",
    "knn = KNeighborsClassifier()\n",
    "knn_random = RandomizedSearchCV(estimator = knn, param_distributions = knn_grid, n_iter = 25, cv = 3, verbose=2, random_state=42, n_jobs = -1)\n",
    "knn_random.fit(X_train,y_train)"
   ]
  },
  {
   "cell_type": "code",
   "execution_count": 55,
   "metadata": {
    "id": "b5zXQ3bf-OSR"
   },
   "outputs": [
    {
     "data": {
      "text/plain": [
       "{'weights': 'uniform', 'n_neighbors': 19}"
      ]
     },
     "execution_count": 55,
     "metadata": {},
     "output_type": "execute_result"
    }
   ],
   "source": [
    "knn_random.best_params_"
   ]
  },
  {
   "cell_type": "code",
   "execution_count": 56,
   "metadata": {
    "id": "Yde-JiBs-VpU"
   },
   "outputs": [
    {
     "data": {
      "text/plain": [
       "KNeighborsClassifier(n_neighbors=19)"
      ]
     },
     "execution_count": 56,
     "metadata": {},
     "output_type": "execute_result"
    }
   ],
   "source": [
    "knn_csf = knn_random.best_estimator_\n",
    "knn_csf.fit(X_train,y_train)"
   ]
  },
  {
   "cell_type": "code",
   "execution_count": 57,
   "metadata": {
    "id": "u5pkGAet-Wvl"
   },
   "outputs": [],
   "source": [
    "y_pred = knn_csf.predict(X_test)\n",
    "knn_score = knn_csf.score(X_test,y_test)\n",
    "knn_f1 = f1_score(y_test, y_pred, average = 'weighted')"
   ]
  },
  {
   "cell_type": "code",
   "execution_count": 58,
   "metadata": {
    "id": "pbRLB1zl-Wkb"
   },
   "outputs": [
    {
     "name": "stdout",
     "output_type": "stream",
     "text": [
      "\n",
      "Classification report:\n",
      "              precision    recall  f1-score   support\n",
      "\n",
      "           0       0.46      0.29      0.36     14885\n",
      "           1       0.60      0.76      0.67     21008\n",
      "\n",
      "    accuracy                           0.57     35893\n",
      "   macro avg       0.53      0.53      0.51     35893\n",
      "weighted avg       0.54      0.57      0.54     35893\n",
      "\n"
     ]
    },
    {
     "data": {
      "text/plain": [
       "array([[ 4351, 10534],\n",
       "       [ 5070, 15938]], dtype=int64)"
      ]
     },
     "execution_count": 58,
     "metadata": {},
     "output_type": "execute_result"
    }
   ],
   "source": [
    "print(\"\\nClassification report:\")\n",
    "print(classification_report(y_test, y_pred))\n",
    "cf_matrix = confusion_matrix(y_test, y_pred,labels=[0,1])\n",
    "cf_matrix"
   ]
  },
  {
   "cell_type": "code",
   "execution_count": 59,
   "metadata": {
    "id": "nguWprfmFuGh"
   },
   "outputs": [
    {
     "data": {
      "text/plain": [
       "<AxesSubplot:>"
      ]
     },
     "execution_count": 59,
     "metadata": {},
     "output_type": "execute_result"
    },
    {
     "data": {
      "image/png": "[encoded data removed]",
      "text/plain": [
       "<Figure size 432x288 with 2 Axes>"
      ]
     },
     "metadata": {
      "needs_background": "light"
     },
     "output_type": "display_data"
    }
   ],
   "source": [
    "group_names = ['True Pos','False Neg','False Pos','True Neg']\n",
    "group_counts = ['{0:0.0f}'.format(value) for value in\n",
    "                cf_matrix.flatten()]\n",
    "group_percentages = ['{0:.2%}'.format(value) for value in\n",
    "                     cf_matrix.flatten()/np.sum(cf_matrix)]\n",
    "labels = [f'{v1}\\n{v2}\\n{v3}' for v1, v2, v3 in\n",
    "          zip(group_names,group_counts,group_percentages)]\n",
    "labels = np.asarray(labels).reshape(2,2)\n",
    "sns.heatmap(cf_matrix, annot=labels, fmt='', cmap='Blues')"
   ]
  },
  {
   "cell_type": "markdown",
   "metadata": {
    "id": "RuvU_YLWWRN_"
   },
   "source": [
    "# Model 2: Logistic Regression"
   ]
  },
  {
   "cell_type": "markdown",
   "metadata": {
    "id": "X7bzapZmhfPg"
   },
   "source": [
    "Logistic Regression is generally used for classification purposes. Unlike Linear Regression, the dependent variable can take a limited number of values only i.e, the dependent variable is categorical. When the number of possible outcomes is only two it is called Binary Logistic Regression.\n",
    "In our project we have success and failure as target or dependent variable."
   ]
  },
  {
   "cell_type": "code",
   "execution_count": 60,
   "metadata": {
    "id": "6GaY8oTIzwY4"
   },
   "outputs": [
    {
     "name": "stdout",
     "output_type": "stream",
     "text": [
      "Fitting 3 folds for each of 25 candidates, totalling 75 fits\n"
     ]
    },
    {
     "name": "stderr",
     "output_type": "stream",
     "text": [
      "[Parallel(n_jobs=-1)]: Using backend LokyBackend with 8 concurrent workers.\n",
      "[Parallel(n_jobs=-1)]: Done  34 tasks      | elapsed:  2.0min\n",
      "[Parallel(n_jobs=-1)]: Done  60 out of  75 | elapsed:  4.2min remaining:  1.1min\n",
      "[Parallel(n_jobs=-1)]: Done  75 out of  75 | elapsed:  6.1min finished\n"
     ]
    },
    {
     "data": {
      "text/plain": [
       "RandomizedSearchCV(cv=3, estimator=LogisticRegression(), n_iter=25, n_jobs=-1,\n",
       "                   param_distributions=[{'C': array([1.00000000e-04, 2.63665090e-04, 6.95192796e-04, 1.83298071e-03,\n",
       "       4.83293024e-03, 1.27427499e-02, 3.35981829e-02, 8.85866790e-02,\n",
       "       2.33572147e-01, 6.15848211e-01, 1.62377674e+00, 4.28133240e+00,\n",
       "       1.12883789e+01, 2.97635144e+01, 7.84759970e+01, 2.06913808e+02,\n",
       "       5.45559478e+02, 1.43844989e+03, 3.79269019e+03, 1.00000000e+04]),\n",
       "                                         'max_iter': [100, 1000, 2500, 5000],\n",
       "                                         'penalty': ['l1', 'l2', 'elasticnet',\n",
       "                                                     'none'],\n",
       "                                         'solver': ['lbfgs', 'newton-cg',\n",
       "                                                    'liblinear', 'sag',\n",
       "                                                    'saga']}],\n",
       "                   random_state=42, verbose=2)"
      ]
     },
     "execution_count": 60,
     "metadata": {},
     "output_type": "execute_result"
    }
   ],
   "source": [
    "from sklearn.linear_model import LogisticRegression\n",
    "log_grid = [    \n",
    "    {'penalty' : ['l1', 'l2', 'elasticnet', 'none'],\n",
    "    'C' : np.logspace(-4, 4, 20),\n",
    "    'solver' : ['lbfgs','newton-cg','liblinear','sag','saga'],\n",
    "    'max_iter' : [100, 1000,2500, 5000]\n",
    "    }\n",
    "]\n",
    "logreg = LogisticRegression()\n",
    "logistic_random = RandomizedSearchCV(estimator = logreg, param_distributions = log_grid, n_iter = 25, cv = 3, verbose=2, random_state=42, n_jobs = -1)\n",
    "logistic_random.fit(X_train,y_train)"
   ]
  },
  {
   "cell_type": "code",
   "execution_count": 61,
   "metadata": {
    "id": "Qj_ZUnlwu87i"
   },
   "outputs": [
    {
     "data": {
      "text/plain": [
       "{'solver': 'liblinear',\n",
       " 'penalty': 'l2',\n",
       " 'max_iter': 2500,\n",
       " 'C': 3792.690190732246}"
      ]
     },
     "execution_count": 61,
     "metadata": {},
     "output_type": "execute_result"
    }
   ],
   "source": [
    "logistic_random.best_params_"
   ]
  },
  {
   "cell_type": "code",
   "execution_count": 62,
   "metadata": {
    "id": "HhrSJc-Lxfly"
   },
   "outputs": [],
   "source": [
    "logreg = logistic_random.best_estimator_"
   ]
  },
  {
   "cell_type": "code",
   "execution_count": 63,
   "metadata": {
    "id": "3aUZj5A4yeH_"
   },
   "outputs": [],
   "source": [
    "y_pred = logreg.predict(X_test)\n",
    "log_score = logreg.score(X_test,y_test)\n",
    "log_f1 = f1_score(y_test, y_pred, average = 'weighted')"
   ]
  },
  {
   "cell_type": "code",
   "execution_count": 64,
   "metadata": {
    "id": "WtUeDTIeymNx"
   },
   "outputs": [
    {
     "name": "stdout",
     "output_type": "stream",
     "text": [
      "\n",
      "Classification report:\n",
      "              precision    recall  f1-score   support\n",
      "\n",
      "           0       0.61      0.35      0.44     14885\n",
      "           1       0.65      0.84      0.73     21008\n",
      "\n",
      "    accuracy                           0.64     35893\n",
      "   macro avg       0.63      0.60      0.59     35893\n",
      "weighted avg       0.63      0.64      0.61     35893\n",
      "\n"
     ]
    }
   ],
   "source": [
    "print(\"\\nClassification report:\")\n",
    "print(classification_report(y_test, y_pred))"
   ]
  },
  {
   "cell_type": "code",
   "execution_count": 65,
   "metadata": {
    "id": "BupyUIlOzIw1"
   },
   "outputs": [
    {
     "data": {
      "text/plain": [
       "<AxesSubplot:>"
      ]
     },
     "execution_count": 65,
     "metadata": {},
     "output_type": "execute_result"
    },
    {
     "data": {
      "image/png": "[encoded data removed]",
      "text/plain": [
       "<Figure size 432x288 with 2 Axes>"
      ]
     },
     "metadata": {
      "needs_background": "light"
     },
     "output_type": "display_data"
    }
   ],
   "source": [
    "cf_matrix = confusion_matrix(y_test, y_pred,labels=[0,1])\n",
    "group_names = ['True Pos','False Neg','False Pos','True Neg']\n",
    "group_counts = ['{0:0.0f}'.format(value) for value in\n",
    "                cf_matrix.flatten()]\n",
    "group_percentages = ['{0:.2%}'.format(value) for value in\n",
    "                     cf_matrix.flatten()/np.sum(cf_matrix)]\n",
    "labels = [f'{v1}\\n{v2}\\n{v3}' for v1, v2, v3 in\n",
    "          zip(group_names,group_counts,group_percentages)]\n",
    "labels = np.asarray(labels).reshape(2,2)\n",
    "sns.heatmap(cf_matrix, annot=labels, fmt='', cmap='Blues')"
   ]
  },
  {
   "cell_type": "code",
   "execution_count": 66,
   "metadata": {
    "id": "7v_2gqMAip72"
   },
   "outputs": [
    {
     "data": {
      "image/png": "[encoded data removed]",
      "text/plain": [
       "<Figure size 432x288 with 1 Axes>"
      ]
     },
     "metadata": {
      "needs_background": "light"
     },
     "output_type": "display_data"
    }
   ],
   "source": [
    "from sklearn.metrics import roc_curve,auc\n",
    "fpr, tpr, thresholds = roc_curve(y_test,y_pred)\n",
    "roc_auc = auc(fpr, tpr)\n",
    "\n",
    "plt.title('Receiver Operating Characteristic')\n",
    "plt.plot(fpr, tpr, 'b', label = 'AUC = %0.2f' % roc_auc)\n",
    "plt.legend(loc = 'lower right')\n",
    "plt.plot([0, 1], [0, 1],'r--')\n",
    "plt.xlim([0, 1])\n",
    "plt.ylim([0, 1])\n",
    "plt.ylabel('True Positive Rate')\n",
    "plt.xlabel('False Positive Rate')\n",
    "plt.show()"
   ]
  },
  {
   "cell_type": "markdown",
   "metadata": {
    "id": "-6vyZln-Wtkj"
   },
   "source": [
    "# Model 3: Random Forest Classifier\n",
    "\n",
    "\n"
   ]
  },
  {
   "cell_type": "markdown",
   "metadata": {
    "id": "ee88cYLAf7uP"
   },
   "source": [
    "\n",
    "The random forest is a classification algorithm consisting of many decisions trees. It uses bagging and feature randomness when building each individual tree to try to create an uncorrelated forest of trees whose prediction by committee is more accurate than that of any individual tree. In this project we are able to get 71% of accuracy."
   ]
  },
  {
   "cell_type": "code",
   "execution_count": 67,
   "metadata": {
    "id": "RdbjMU77mAA_"
   },
   "outputs": [
    {
     "name": "stdout",
     "output_type": "stream",
     "text": [
      "Fitting 3 folds for each of 25 candidates, totalling 75 fits\n"
     ]
    },
    {
     "name": "stderr",
     "output_type": "stream",
     "text": [
      "[Parallel(n_jobs=-1)]: Using backend LokyBackend with 8 concurrent workers.\n",
      "[Parallel(n_jobs=-1)]: Done  25 tasks      | elapsed:  2.8min\n",
      "[Parallel(n_jobs=-1)]: Done  75 out of  75 | elapsed:  6.7min finished\n"
     ]
    },
    {
     "data": {
      "text/plain": [
       "RandomizedSearchCV(cv=3, estimator=RandomForestClassifier(), n_iter=25,\n",
       "                   n_jobs=-1,\n",
       "                   param_distributions={'bootstrap': [True],\n",
       "                                        'max_depth': [80, 90, 100, 110],\n",
       "                                        'min_samples_leaf': [3, 4, 5],\n",
       "                                        'min_samples_split': [8, 10, 12],\n",
       "                                        'n_estimators': [50, 100, 200]},\n",
       "                   random_state=42, verbose=2)"
      ]
     },
     "execution_count": 67,
     "metadata": {},
     "output_type": "execute_result"
    }
   ],
   "source": [
    "from sklearn.ensemble import RandomForestClassifier\n",
    "\n",
    "# parameters\n",
    "random_grid = {\n",
    "    'bootstrap': [True],\n",
    "    'max_depth': [80, 90, 100, 110],\n",
    "    'min_samples_leaf': [3, 4, 5],\n",
    "    'min_samples_split': [8, 10, 12],\n",
    "    'n_estimators': [50, 100, 200]\n",
    "}\n",
    "# based model\n",
    "rf = RandomForestClassifier()\n",
    "# Random search model\n",
    "rf_random = RandomizedSearchCV(estimator = rf, param_distributions = random_grid, n_iter = 25, cv = 3, verbose=2, random_state=42, n_jobs = -1)\n",
    "rf_random.fit(X_train,y_train)"
   ]
  },
  {
   "cell_type": "code",
   "execution_count": 68,
   "metadata": {
    "id": "zxiI5HOQngA9"
   },
   "outputs": [
    {
     "data": {
      "text/plain": [
       "{'n_estimators': 200,\n",
       " 'min_samples_split': 12,\n",
       " 'min_samples_leaf': 5,\n",
       " 'max_depth': 80,\n",
       " 'bootstrap': True}"
      ]
     },
     "execution_count": 68,
     "metadata": {},
     "output_type": "execute_result"
    }
   ],
   "source": [
    "rf_random.best_params_"
   ]
  },
  {
   "cell_type": "code",
   "execution_count": 69,
   "metadata": {
    "id": "m2kjzxIErSvf"
   },
   "outputs": [],
   "source": [
    "classifier = rf_random.best_estimator_"
   ]
  },
  {
   "cell_type": "code",
   "execution_count": 70,
   "metadata": {
    "id": "hjA9FRzqroJ8"
   },
   "outputs": [],
   "source": [
    "# Predicting the test set results\n",
    "y_pred = classifier.predict(X_test)\n",
    "rf_score = classifier.score(X_test,y_test)\n",
    "rf_f1 = f1_score(y_test, y_pred, average = 'weighted')"
   ]
  },
  {
   "cell_type": "code",
   "execution_count": 71,
   "metadata": {
    "id": "ut5DyDyfrrpT"
   },
   "outputs": [
    {
     "name": "stdout",
     "output_type": "stream",
     "text": [
      "\n",
      "Classification report:\n",
      "              precision    recall  f1-score   support\n",
      "\n",
      "           0       0.68      0.57      0.62     14885\n",
      "           1       0.73      0.81      0.77     21008\n",
      "\n",
      "    accuracy                           0.71     35893\n",
      "   macro avg       0.70      0.69      0.69     35893\n",
      "weighted avg       0.71      0.71      0.71     35893\n",
      "\n"
     ]
    },
    {
     "data": {
      "text/plain": [
       "0.7050505646833038"
      ]
     },
     "execution_count": 71,
     "metadata": {},
     "output_type": "execute_result"
    }
   ],
   "source": [
    "print(\"\\nClassification report:\")\n",
    "print(classification_report(y_test, y_pred))\n",
    "f1_score(y_test,y_pred, average = 'weighted')"
   ]
  },
  {
   "cell_type": "code",
   "execution_count": 72,
   "metadata": {
    "id": "eAvcUHfwWjyA"
   },
   "outputs": [
    {
     "data": {
      "text/plain": [
       "<AxesSubplot:>"
      ]
     },
     "execution_count": 72,
     "metadata": {},
     "output_type": "execute_result"
    },
    {
     "data": {
      "image/png": "[encoded data removed]",
      "text/plain": [
       "<Figure size 432x288 with 2 Axes>"
      ]
     },
     "metadata": {
      "needs_background": "light"
     },
     "output_type": "display_data"
    }
   ],
   "source": [
    "cf_matrix = confusion_matrix(y_test, y_pred,labels=[0,1])\n",
    "group_names = ['True Pos','False Neg','False Pos','True Neg']\n",
    "group_counts = ['{0:0.0f}'.format(value) for value in\n",
    "                cf_matrix.flatten()]\n",
    "group_percentages = ['{0:.2%}'.format(value) for value in\n",
    "                     cf_matrix.flatten()/np.sum(cf_matrix)]\n",
    "labels = [f'{v1}\\n{v2}\\n{v3}' for v1, v2, v3 in\n",
    "          zip(group_names,group_counts,group_percentages)]\n",
    "labels = np.asarray(labels).reshape(2,2)\n",
    "sns.heatmap(cf_matrix, annot=labels, fmt='', cmap='Blues')"
   ]
  },
  {
   "cell_type": "markdown",
   "metadata": {
    "id": "g7PVEPBoXkF9"
   },
   "source": [
    "# Model 4: Ensemble stacking classifier"
   ]
  },
  {
   "cell_type": "markdown",
   "metadata": {
    "id": "a_sCunF1CvZJ"
   },
   "source": [
    "Ensemble Stacking Classifier uses a meta classifier to make predictions by combining the predictions of more than one heterogeneous machine learning algorithms. The base classifiers models will fit on the entire training dataset to make predictions and the meta classifier combines the predictions from the base classifier for the best prediction. Overall, the meta classifier will reduce generalization errors.\n",
    "\n",
    "For this project, Logistic regression, Random Forest and KNN algorithms are considered as the base classifiers and Logistic regression is taken as meta classifier to make the final prediction from the results of the base classifiers.\n",
    "![hvh.jpg](data:image/jpeg;base64,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)"
   ]
  },
  {
   "cell_type": "code",
   "execution_count": 73,
   "metadata": {
    "id": "X_hj5AtxzwOU"
   },
   "outputs": [],
   "source": [
    "from sklearn.ensemble import StackingClassifier\n",
    "from sklearn.linear_model import LogisticRegression\n",
    "from sklearn.neighbors import KNeighborsClassifier\n",
    "from sklearn.ensemble import RandomForestClassifier\n",
    "from sklearn.naive_bayes import GaussianNB\n",
    "# define the base models\n",
    "level0 = list()\n",
    "level0.append(('lr', logistic_random.best_estimator_))\n",
    "level0.append(('knn', knn_random.best_estimator_))\n",
    "level0.append(('RF', rf_random.best_estimator_))\n",
    "# level0.append(('bayes', GaussianNB()))\n",
    "# define meta learner model\n",
    "level1 = LogisticRegression()\n",
    "# define the stacking ensemble\n",
    "model = StackingClassifier(estimators=level0, final_estimator=level1, cv=5)\n",
    "# fit the model on all available data\n",
    "model.fit(X_train, y_train)\n",
    "# predictions on X_test\n",
    "yhat = model.predict(X_test)"
   ]
  },
  {
   "cell_type": "code",
   "execution_count": 74,
   "metadata": {
    "id": "yBVYfOJCc8W1"
   },
   "outputs": [],
   "source": [
    "stacking_score = model.score(X_test,y_test)\n",
    "stacking_f1 = f1_score(y_test, y_pred, average = 'weighted')"
   ]
  },
  {
   "cell_type": "code",
   "execution_count": 75,
   "metadata": {
    "id": "qqm-J0M7zwDm"
   },
   "outputs": [
    {
     "name": "stdout",
     "output_type": "stream",
     "text": [
      "\n",
      "Classification report:\n",
      "              precision    recall  f1-score   support\n",
      "\n",
      "           0       0.66      0.59      0.63     14885\n",
      "           1       0.73      0.79      0.76     21008\n",
      "\n",
      "    accuracy                           0.71     35893\n",
      "   macro avg       0.70      0.69      0.69     35893\n",
      "weighted avg       0.70      0.71      0.70     35893\n",
      "\n"
     ]
    }
   ],
   "source": [
    "print(\"\\nClassification report:\")\n",
    "print(classification_report(y_test, yhat))"
   ]
  },
  {
   "cell_type": "code",
   "execution_count": 76,
   "metadata": {
    "id": "nEcIhMIOGdQ4"
   },
   "outputs": [
    {
     "data": {
      "text/plain": [
       "<AxesSubplot:>"
      ]
     },
     "execution_count": 76,
     "metadata": {},
     "output_type": "execute_result"
    },
    {
     "data": {
      "image/png": "[encoded data removed]",
      "text/plain": [
       "<Figure size 432x288 with 2 Axes>"
      ]
     },
     "metadata": {
      "needs_background": "light"
     },
     "output_type": "display_data"
    }
   ],
   "source": [
    "group_names = ['True Pos','False Neg','False Pos','True Neg']\n",
    "group_counts = ['{0:0.0f}'.format(value) for value in\n",
    "                cf_matrix.flatten()]\n",
    "group_percentages = ['{0:.2%}'.format(value) for value in\n",
    "                     cf_matrix.flatten()/np.sum(cf_matrix)]\n",
    "labels = [f'{v1}\\n{v2}\\n{v3}' for v1, v2, v3 in\n",
    "          zip(group_names,group_counts,group_percentages)]\n",
    "labels = np.asarray(labels).reshape(2,2)\n",
    "sns.heatmap(cf_matrix, annot=labels, fmt='', cmap='Blues')"
   ]
  },
  {
   "cell_type": "markdown",
   "metadata": {
    "id": "Ve1qIwphXAR1"
   },
   "source": [
    "# Comparing Model performances\n",
    "\n"
   ]
  },
  {
   "cell_type": "markdown",
   "metadata": {
    "id": "v7fStMGNWY0d"
   },
   "source": [
    "Accuracy for different *models*"
   ]
  },
  {
   "cell_type": "code",
   "execution_count": 77,
   "metadata": {
    "id": "1nQVOKpvzwBo"
   },
   "outputs": [
    {
     "data": {
      "text/plain": [
       "<AxesSubplot:xlabel='Model'>"
      ]
     },
     "execution_count": 77,
     "metadata": {},
     "output_type": "execute_result"
    },
    {
     "data": {
      "image/png": "[encoded data removed]",
      "text/plain": [
       "<Figure size 432x288 with 1 Axes>"
      ]
     },
     "metadata": {
      "needs_background": "light"
     },
     "output_type": "display_data"
    }
   ],
   "source": [
    "d = {'Model':['KNN','Logistic Regression','Random Forest','Stacking Ensemble'],'Accuracy':[knn_score,log_score,rf_score,stacking_score]}\n",
    "\n",
    "agg_scores = pd.DataFrame(data = d)\n",
    "agg_scores.plot(x='Model',y='Accuracy',kind='line', marker='x')"
   ]
  },
  {
   "cell_type": "markdown",
   "metadata": {
    "id": "XBfXVezzYifa"
   },
   "source": [
    "F1-Score for different models"
   ]
  },
  {
   "cell_type": "code",
   "execution_count": 78,
   "metadata": {
    "id": "-uFWk7fZOh4e"
   },
   "outputs": [
    {
     "data": {
      "text/plain": [
       "<AxesSubplot:xlabel='Model'>"
      ]
     },
     "execution_count": 78,
     "metadata": {},
     "output_type": "execute_result"
    },
    {
     "data": {
      "image/png": "[encoded data removed]",
      "text/plain": [
       "<Figure size 432x288 with 1 Axes>"
      ]
     },
     "metadata": {
      "needs_background": "light"
     },
     "output_type": "display_data"
    }
   ],
   "source": [
    "d1 = {'Model':['KNN','Logistic Regression','Random Forest','Stacking Ensemble'],'F1 Score':[knn_f1,log_f1,rf_f1,stacking_f1]}\n",
    "\n",
    "agg_scores = pd.DataFrame(data = d1)\n",
    "agg_scores.plot(x='Model',y='F1 Score',kind='line', marker='x',color = 'red')"
   ]
  },
  {
   "cell_type": "markdown",
   "metadata": {
    "id": "QSEh_Q6DBap7"
   },
   "source": [
    "### **Result:**\n",
    "\n",
    "For this project we have tried using different traditional machine learning algorithms like KNN, Logistic regression, Random forest and we also tried ensemble methods like stacking. Overall, we have a highest accuracy for both Random Forest and Stacking ensemble technique which is almost 71% and f1 score of nearly 70%. \n",
    "\n",
    "Hence, for the final deployment of the model we are considering the Random Forest even though stacking ensemble have the almost same accuracy because Random forest is less complex and will take less computation power when compared to Stacking ensemble technique."
   ]
  },
  {
   "cell_type": "markdown",
   "metadata": {
    "id": "sryRkU7LTy9F"
   },
   "source": [
    "### **Impact after resolution & future work**\n",
    "\n",
    "We ultimately determined that using ensemble models works much better than individual machine learning models as we observed when we tested the performance of various models against each other. Training and testing the model takes a lot of computation time since ensemble models and bagging runs various models parallely. However, we are able to obtain a high accuracy so it is worth the long run-time.\n"
   ]
  },
  {
   "cell_type": "markdown",
   "metadata": {
    "id": "LJtajOHETlb4"
   },
   "source": [
    "### References\n",
    "- Michael D Greenberg, Bryan Pardo, Karthic Hariharan, and Elizabeth Gerber. Crowdfunding support tools: predicting success & failure. In CHI’13 Extended Abstracts on Human Factors in Computing Systems, pages 1815–1820. ACM, 2013. \n",
    "- Chenchen Pen et.al, Predicting the Success of Crowdfunding.\n"
   ]
  },
  {
   "cell_type": "code",
   "execution_count": null,
   "metadata": {
    "id": "hdNk2lHGUpTE"
   },
   "outputs": [],
   "source": []
  }
 ],
 "metadata": {
  "colab": {
   "collapsed_sections": [],
   "name": "Final_Kickstarter_documentation.ipynb",
   "provenance": []
  },
  "kernelspec": {
   "display_name": "Python 3",
   "language": "python",
   "name": "python3"
  },
  "language_info": {
   "codemirror_mode": {
    "name": "ipython",
    "version": 3
   },
   "file_extension": ".py",
   "mimetype": "text/x-python",
   "name": "python",
   "nbconvert_exporter": "python",
   "pygments_lexer": "ipython3",
   "version": "3.8.5"
  }
 },
 "nbformat": 4,
 "nbformat_minor": 1
}
